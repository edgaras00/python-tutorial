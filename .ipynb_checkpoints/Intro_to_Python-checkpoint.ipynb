{
 "cells": [
  {
   "cell_type": "markdown",
   "metadata": {},
   "source": [
    "# Introduction to Python Programming\n",
    "\n",
    "![title](https://provalisresearch.com/uploads/Python-Logo-215x141.png)\n"
   ]
  },
  {
   "cell_type": "markdown",
   "metadata": {},
   "source": [
    "# Index:\n",
    "1. [Python Operators](#Python-Operators)\n",
    "2. [Variables and Types](#Variables-and-Types)\n",
    "3. [Lists](#Lists)\n",
    "4. [Control Flow in Python](#Control-Flow-in-Python)\n",
    "5. [Loops in Python](#Loops-in-Python)\n",
    "6. [More on Lists and Strings](#More-on-Lists-and-Strings)\n",
    "7. [Functions](#Functions)\n",
    "8. [Dictionaries](#Dictionaries)\n",
    "9. [Modules in Python](#Modules-in-Python)\n",
    "    1. [NumPy](#NumPy)\n",
    "    2. [pandas](#pandas)\n",
    "    3. [Matplotlib](#Data-Visualization-and-Matplotlib)\n",
    "10. [Other Resources](#Other-Resources)"
   ]
  },
  {
   "cell_type": "markdown",
   "metadata": {},
   "source": [
    "## Python Operators\n",
    "\n",
    "### Python print( ) Function\n",
    "\n",
    "* To print something in Python we use the [__print( )__](https://docs.python.org/3/library/functions.html#print) function."
   ]
  },
  {
   "cell_type": "code",
   "execution_count": 1,
   "metadata": {},
   "outputs": [
    {
     "name": "stdout",
     "output_type": "stream",
     "text": [
      "Hello, World!\n",
      "100\n",
      "Word 10\n"
     ]
    }
   ],
   "source": [
    "print(\"Hello, World!\")\n",
    "print(100)\n",
    "print('Word', 10)"
   ]
  },
  {
   "cell_type": "markdown",
   "metadata": {},
   "source": [
    "### Arithmetic Operators\n",
    "\n",
    "* __Arithmetic operators__ are used to perform mathematical operations.\n",
    "\n",
    "\n",
    "\n",
    "| Operator |   Syntax |  Description     |\n",
    "|----------|--------|--------------------|\n",
    "|    +     | x + y  |           Addition |\n",
    "|    -     | x - y  |        Subtraction |\n",
    "|    *     | x * y  |     Multiplication |\n",
    "|    /     | x / y  |   Division (float) |\n",
    "|   //     | x // y |   Division (floor) |\n",
    "|   **     | x ** y |           Exponent |\n",
    "|    %     | x % y  |            Modulus |"
   ]
  },
  {
   "cell_type": "code",
   "execution_count": 2,
   "metadata": {},
   "outputs": [
    {
     "name": "stdout",
     "output_type": "stream",
     "text": [
      "7.5\n",
      "1.5\n",
      "36\n",
      "4.5\n",
      "4\n",
      "16\n",
      "2\n"
     ]
    }
   ],
   "source": [
    "print(5 + 2.5)   # 7.5\n",
    "\n",
    "print(3 - 1.5)   # 1.5\n",
    "\n",
    "print(12 * 3)    # 36\n",
    "\n",
    "print(9 / 2)     # 4.5\n",
    "\n",
    "print(9 // 2)    # 4\n",
    "\n",
    "print(4 ** 2)    # 16\n",
    "\n",
    "print(10 % 4)    # 2"
   ]
  },
  {
   "cell_type": "markdown",
   "metadata": {},
   "source": [
    "Like in math, these arithmetic operators have precedence, which we can alter using parentheses."
   ]
  },
  {
   "cell_type": "code",
   "execution_count": 3,
   "metadata": {},
   "outputs": [
    {
     "name": "stdout",
     "output_type": "stream",
     "text": [
      "17\n",
      "27\n"
     ]
    }
   ],
   "source": [
    "print(5 + 4 * 3)    # 5 + 12 = 17\n",
    "print((5 + 4) * 3)  # 9 * 3 = 27"
   ]
  },
  {
   "cell_type": "markdown",
   "metadata": {},
   "source": [
    "### Relational Operators\n",
    "\n",
    "* __Relational Operators__ are used to compare values. \n",
    "\n",
    "| Operator |  Syntax||         Description            |\n",
    "|----------|--------||--------------------------------|\n",
    "|    >     | x > y  ||    True if x is greater than y |\n",
    "|    <     | x < y  ||       True if x is less than y |\n",
    "|   ==     | x == y ||        True if x is equal to y |\n",
    "|   !=     | x != y ||    True if x is not equal to y |\n",
    "|   >=     | x >= y ||        True if x > y or x == y |\n",
    "|   <=     | x <= y ||        True if x < y or x == y |\n"
   ]
  },
  {
   "cell_type": "code",
   "execution_count": 4,
   "metadata": {},
   "outputs": [
    {
     "name": "stdout",
     "output_type": "stream",
     "text": [
      "True\n",
      "False\n",
      "False\n",
      "True\n",
      "True\n",
      "False\n"
     ]
    }
   ],
   "source": [
    "print(15 > 10)    # True\n",
    "print(4 < 3)      # False\n",
    "print(5 == 9)     # False\n",
    "print(5 != 9)     # True\n",
    "print(100 >= 100) # True\n",
    "print(20 <= 10)   # False   "
   ]
  },
  {
   "cell_type": "markdown",
   "metadata": {},
   "source": [
    "We can also compare strings:"
   ]
  },
  {
   "cell_type": "code",
   "execution_count": 5,
   "metadata": {},
   "outputs": [
    {
     "name": "stdout",
     "output_type": "stream",
     "text": [
      "True\n",
      "True\n",
      "False\n"
     ]
    }
   ],
   "source": [
    "print(\"Hello\" == \"Hello\")    # True\n",
    "print(\"string\" != \"String\")  # True\n",
    "print(\"a\" > \"z\")             # False"
   ]
  },
  {
   "cell_type": "markdown",
   "metadata": {},
   "source": [
    "Characters are ordered by their [ASCII](https://en.wikipedia.org/wiki/ASCII) values."
   ]
  },
  {
   "cell_type": "markdown",
   "metadata": {},
   "source": [
    "### Logical Operators \n",
    "\n",
    "* __Logical operators__ are used to combine conditional statements.\n",
    "\n",
    "\n",
    "| Operator |  Syntax ||         Description             |\n",
    "|----------|-------- ||-------------------------------- |\n",
    "|    and   | x and y ||   True if both x and y are true |\n",
    "|     or   | x or y  ||   True if either x or y is true |\n",
    "|    not   | not x   ||              True if x is false |\n"
   ]
  },
  {
   "cell_type": "code",
   "execution_count": 6,
   "metadata": {},
   "outputs": [
    {
     "name": "stdout",
     "output_type": "stream",
     "text": [
      "True\n",
      "False\n",
      "\n",
      "True\n",
      "False\n",
      "\n",
      "True\n",
      "False\n"
     ]
    }
   ],
   "source": [
    "# and\n",
    "print(5 > 4 and 10 <= 10)    # True\n",
    "print(4 == 5 and 22.5 > 12)  # False\n",
    "print()\n",
    "\n",
    "# or\n",
    "print(4 == 5 or 22.5 > 12)        # True\n",
    "print(not True or 9 // 2 == 4.5)  # False\n",
    "print()\n",
    "\n",
    "# not\n",
    "print(not False)  # True\n",
    "print(not 32 > 8) # False"
   ]
  },
  {
   "cell_type": "markdown",
   "metadata": {},
   "source": [
    "# Variables and Types\n",
    "\n",
    "### Variables in Python\n",
    "\n",
    "* Variables are like containers that allow us to store data values.\n",
    "* In Python you do not need to declare a variable before assigning a value to it.\n",
    "* You do not need to declare the type of data when assigning a value to a variable.\n",
    "\n",
    "\n",
    "\n",
    "\n",
    "* We assign values to a variable using the assignment operator __=__\n",
    "\n",
    "```Python\n",
    "variable = some_value\n",
    "```"
   ]
  },
  {
   "cell_type": "code",
   "execution_count": 7,
   "metadata": {},
   "outputs": [
    {
     "name": "stdout",
     "output_type": "stream",
     "text": [
      "This a variable\n",
      "50\n",
      "False\n"
     ]
    }
   ],
   "source": [
    "variable_1 = \"This a variable\"\n",
    "variable_2 = 50\n",
    "variable_3 = False\n",
    "print(variable_1)\n",
    "print(variable_2)\n",
    "print(variable_3)"
   ]
  },
  {
   "cell_type": "markdown",
   "metadata": {},
   "source": [
    "* We can perform various operations using Python variables."
   ]
  },
  {
   "cell_type": "code",
   "execution_count": 8,
   "metadata": {},
   "outputs": [
    {
     "name": "stdout",
     "output_type": "stream",
     "text": [
      "8\n",
      "False\n",
      "\n",
      "HelloWorld\n"
     ]
    }
   ],
   "source": [
    "x = 4\n",
    "y = 2\n",
    "print(x * y) # 8\n",
    "print(x <= y)\n",
    "print()\n",
    "\n",
    "word_1 = \"Hello\"\n",
    "word_2 = \"World\"\n",
    "sentence = word_1 + word_2   # String concatenation\n",
    "print(sentence)"
   ]
  },
  {
   "cell_type": "markdown",
   "metadata": {},
   "source": [
    "## Types\n",
    "\n",
    "### Numbers\n",
    "\n",
    "* Most common numeric types in Python:\n",
    "    * [__int__](https://docs.python.org/3/library/functions.html#int)\n",
    "    * [__float__](https://docs.python.org/3/library/functions.html#float)\n",
    " \n",
    " \n",
    "* __int__ (integer): Whole number (positive or negative).\n",
    "\n",
    "\n",
    "* __float__ (floating point number): Decimal number (positive or negative)."
   ]
  },
  {
   "cell_type": "code",
   "execution_count": 9,
   "metadata": {},
   "outputs": [
    {
     "name": "stdout",
     "output_type": "stream",
     "text": [
      "<class 'int'>\n",
      "<class 'float'>\n"
     ]
    }
   ],
   "source": [
    "integer = 7\n",
    "decimal = -99.9\n",
    "\n",
    "# Use the type() function to check the type of a variable\n",
    "print(type(integer))\n",
    "print(type(decimal))"
   ]
  },
  {
   "cell_type": "markdown",
   "metadata": {},
   "source": [
    "### Strings\n",
    "\n",
    "* Strings (__str__) are characters surrounded by either single (' ') or double (\" \") quotes.\n",
    "* Strings are not mutable (they can't be changed).\n",
    "\n"
   ]
  },
  {
   "cell_type": "code",
   "execution_count": 10,
   "metadata": {},
   "outputs": [
    {
     "name": "stdout",
     "output_type": "stream",
     "text": [
      "True\n"
     ]
    }
   ],
   "source": [
    "string_1 = 'Hello, World!'     # single quotes\n",
    "string_2 = \"Hello, World!\"     # double quotes\n",
    "print(string_1 == string_2)"
   ]
  },
  {
   "cell_type": "markdown",
   "metadata": {},
   "source": [
    "Strings can also contain numbers and other characters:"
   ]
  },
  {
   "cell_type": "code",
   "execution_count": 11,
   "metadata": {},
   "outputs": [
    {
     "name": "stdout",
     "output_type": "stream",
     "text": [
      "<class 'str'>\n"
     ]
    }
   ],
   "source": [
    "binary_string = '0111001010'\n",
    "mixed_string = 'a1b2c3*d$4'\n",
    "print(type(binary_string))"
   ]
  },
  {
   "cell_type": "markdown",
   "metadata": {},
   "source": [
    "### Python Type Conversion\n",
    "\n",
    "* We can convert the value of one data type to another data type using built-in Python functions.\n",
    "\n",
    "* [__int( )__](https://docs.python.org/3/library/functions.html#int): convert to an integer object\n",
    "* [__float( )__](https://docs.python.org/3/library/functions.html#float): convert to a float object\n",
    "* [__str( )__](https://docs.python.org/3/library/functions.html#func-str): convert to a string object "
   ]
  },
  {
   "cell_type": "code",
   "execution_count": 12,
   "metadata": {},
   "outputs": [
    {
     "name": "stdout",
     "output_type": "stream",
     "text": [
      "23\n",
      "<class 'str'>\n"
     ]
    }
   ],
   "source": [
    "number_int = 23\n",
    "number_str = str(23)\n",
    "print(number_str)\n",
    "print(type(number_str))"
   ]
  },
  {
   "cell_type": "code",
   "execution_count": 13,
   "metadata": {},
   "outputs": [
    {
     "name": "stdout",
     "output_type": "stream",
     "text": [
      "3\n",
      "<class 'int'>\n"
     ]
    }
   ],
   "source": [
    "float_var = 3.14\n",
    "int_var = int(float_var)\n",
    "print(int_var)\n",
    "print(type(int_var))"
   ]
  },
  {
   "cell_type": "code",
   "execution_count": 14,
   "metadata": {},
   "outputs": [
    {
     "name": "stdout",
     "output_type": "stream",
     "text": [
      "3.14\n",
      "<class 'float'>\n"
     ]
    }
   ],
   "source": [
    "pi_string = '3.14'\n",
    "pi_float = float(pi_string)\n",
    "print(pi_float)\n",
    "print(type(pi_float))"
   ]
  },
  {
   "cell_type": "markdown",
   "metadata": {},
   "source": [
    "### String Methods\n",
    "\n",
    "* Python has built-in [__functions and methods__](https://docs.python.org/3/library/stdtypes.html#str) for string manipulation\n",
    "\n",
    "\n",
    "\n",
    "* [__str.lower( )__](https://www.programiz.com/python-programming/methods/string/lower): returns the string in lowercase\n",
    "* [__str.upper( )__](https://www.programiz.com/python-programming/methods/string/upper) returns the string in uppercase"
   ]
  },
  {
   "cell_type": "code",
   "execution_count": 15,
   "metadata": {},
   "outputs": [
    {
     "name": "stdout",
     "output_type": "stream",
     "text": [
      "hello, world!\n",
      "HELLO, WORLD!\n"
     ]
    }
   ],
   "source": [
    "string_1 = 'Hello, World!'\n",
    "print(string_1.lower()) # hello, world!\n",
    "print(string_1.upper()) # HELLO, WORLD!"
   ]
  },
  {
   "cell_type": "markdown",
   "metadata": {},
   "source": [
    "* Use the [__len( )__](https://docs.python.org/3/library/functions.html#len) function to find the length of a string."
   ]
  },
  {
   "cell_type": "code",
   "execution_count": 16,
   "metadata": {},
   "outputs": [
    {
     "name": "stdout",
     "output_type": "stream",
     "text": [
      "13\n"
     ]
    }
   ],
   "source": [
    "print(len(string_1))"
   ]
  },
  {
   "cell_type": "markdown",
   "metadata": {},
   "source": [
    "* [__str.replace( )__](https://www.programiz.com/python-programming/methods/string/replace) can be be used to return a copy of the string with all occurrences of 'old' substring replaced by 'new' substring.\n",
    "\n",
    "```Python\n",
    "str.replace(old, new)\n",
    "```"
   ]
  },
  {
   "cell_type": "code",
   "execution_count": 17,
   "metadata": {},
   "outputs": [
    {
     "name": "stdout",
     "output_type": "stream",
     "text": [
      "Bye, everybody\n"
     ]
    }
   ],
   "source": [
    "string = 'Hi, everybody'\n",
    "print(string.replace('Hi', 'Bye'))"
   ]
  },
  {
   "cell_type": "markdown",
   "metadata": {},
   "source": [
    "* [__str.startswith( )__](https://www.programiz.com/python-programming/methods/string/startswith): returns True if a string starts with the specified value (string). If not, returns False.\n",
    "\n",
    "```Python\n",
    "str.startswith(value)\n",
    "```"
   ]
  },
  {
   "cell_type": "code",
   "execution_count": 18,
   "metadata": {},
   "outputs": [
    {
     "name": "stdout",
     "output_type": "stream",
     "text": [
      "True\n",
      "True\n",
      "False\n"
     ]
    }
   ],
   "source": [
    "dna = 'GTCAGTTAACGTACGTTA'\n",
    "greeting = 'Hello, World!'\n",
    "\n",
    "print(dna.startswith('G'))\n",
    "print(greeting.startswith('Hello'))\n",
    "print(dna.startswith('T'))"
   ]
  },
  {
   "cell_type": "markdown",
   "metadata": {},
   "source": [
    "* [__str.endswith( )__](https://www.programiz.com/python-programming/methods/string/endswith): returns True if a string ends with the specified value. If not, returns False. "
   ]
  },
  {
   "cell_type": "code",
   "execution_count": 19,
   "metadata": {},
   "outputs": [
    {
     "name": "stdout",
     "output_type": "stream",
     "text": [
      "True\n",
      "True\n",
      "False\n"
     ]
    }
   ],
   "source": [
    "rna = 'ACUGGCCUUUACGUGCCC'\n",
    "string = 'genetics'\n",
    "\n",
    "print(rna.endswith('CCC'))\n",
    "print(string.endswith('s'))\n",
    "print(string.endswith('g'))"
   ]
  },
  {
   "cell_type": "markdown",
   "metadata": {},
   "source": [
    "### Indexing Strings\n",
    "\n",
    "* Strings can be indexed.\n",
    "* Indexing starts at number 0.\n",
    "\n",
    "| W | O | R | D |\n",
    "|---|---|---|---|\n",
    "| 0 | 1 | 2 | 3 |\n",
    "\n",
    "\n",
    "* W --> Index 0\n",
    "* O --> Index 1\n",
    "* R --> Index 2\n",
    "* D --> Index 3\n",
    "\n",
    "* We can access specific characters in a string using their index numbers.\n",
    "* We do this by putting the index numbers inside square brackets [ ]\n",
    "\n",
    "```python\n",
    "some_string[index]\n",
    "```"
   ]
  },
  {
   "cell_type": "code",
   "execution_count": 20,
   "metadata": {},
   "outputs": [
    {
     "name": "stdout",
     "output_type": "stream",
     "text": [
      "P\n",
      "t\n"
     ]
    }
   ],
   "source": [
    "string = 'Python'\n",
    "first_char = string[0]\n",
    "third_char = string[2]\n",
    "print(first_char)\n",
    "print(third_char)"
   ]
  },
  {
   "cell_type": "markdown",
   "metadata": {},
   "source": [
    "* Python also supports negative indexing"
   ]
  },
  {
   "cell_type": "code",
   "execution_count": 21,
   "metadata": {},
   "outputs": [
    {
     "name": "stdout",
     "output_type": "stream",
     "text": [
      "r\n",
      "e\n"
     ]
    }
   ],
   "source": [
    "string = 'Summer'\n",
    "print(string[-1])    # Prints the last character\n",
    "print(string[-2])"
   ]
  },
  {
   "cell_type": "markdown",
   "metadata": {},
   "source": [
    "### String Slicing\n",
    "\n",
    "* It is possible to use string indexes to extract more than one character.\n",
    "* We need to change the square-bracket syntax a little:\n",
    "    * Specify __starting__ and __ending__ positions\n",
    "        * Separated by a \" : \"\n",
    "    \n",
    "    \n",
    "```python\n",
    "substring = string[start_idx : end_idx]\n",
    "```\n",
    "\n",
    "Note: Returns everything from start_idx up to, __but not including__, the character at the end_idx position."
   ]
  },
  {
   "cell_type": "code",
   "execution_count": 22,
   "metadata": {},
   "outputs": [
    {
     "name": "stdout",
     "output_type": "stream",
     "text": [
      "0123\n"
     ]
    }
   ],
   "source": [
    "x = '012345'\n",
    "print(x[0:4])   # 0123"
   ]
  },
  {
   "cell_type": "code",
   "execution_count": 23,
   "metadata": {},
   "outputs": [
    {
     "name": "stdout",
     "output_type": "stream",
     "text": [
      "Bio\n",
      "informatics\n"
     ]
    }
   ],
   "source": [
    "string = \"Bioinformatics\"\n",
    "\n",
    "substring_1 = string[0:3]  # Bio\n",
    "print(substring_1)\n",
    "\n",
    "substring_2 = string[3:]   # Informatics\n",
    "print(substring_2)"
   ]
  },
  {
   "cell_type": "markdown",
   "metadata": {},
   "source": [
    "* If your end index is at the end of the original string, you can omit that index.\n",
    "* If you omit the start index, its default value will be 0.\n",
    "\n",
    "```python\n",
    "string[:5] == string[0:5]\n",
    "```"
   ]
  },
  {
   "cell_type": "code",
   "execution_count": 24,
   "metadata": {},
   "outputs": [
    {
     "name": "stdout",
     "output_type": "stream",
     "text": [
      "Hunter\n",
      "College\n"
     ]
    }
   ],
   "source": [
    "college = 'Hunter College'\n",
    "print(college[:6])  \n",
    "print(college[7:])"
   ]
  },
  {
   "cell_type": "markdown",
   "metadata": {},
   "source": [
    "# Lists \n",
    "\n",
    "* A type of data structure that is used to store multiple data values.\n",
    "* Similar to arrays in Perl.\n",
    "* Can contain items of different types, such as strings, integers and even other lists.\n",
    "* Lists are mutable (they can be changed).\n",
    "* Creating a list is easy:\n",
    "    * Place the sequence of items inside square brackets.\n",
    "    \n",
    "```python\n",
    "my_list = [1,5,'String']\n",
    "```"
   ]
  },
  {
   "cell_type": "code",
   "execution_count": 25,
   "metadata": {},
   "outputs": [
    {
     "name": "stdout",
     "output_type": "stream",
     "text": [
      "['a', 'b', 'c', 'd']\n",
      "[2, 5, 22, 9]\n",
      "['a', 1, 'b', 90.99, True, False, 2, True, [2, 5, 22, 9]]\n"
     ]
    }
   ],
   "source": [
    "alpha_list = ['a', 'b', 'c', 'd']\n",
    "num_list = [2, 5, 22, 9]\n",
    "mixed_list = ['a', 1, 'b', 90.99, True, 4==5, 20 % 6, True or False, num_list]\n",
    "\n",
    "print(alpha_list)\n",
    "print(num_list)\n",
    "print(mixed_list)"
   ]
  },
  {
   "cell_type": "markdown",
   "metadata": {},
   "source": [
    "### Accessing Elements \n",
    "\n",
    "* We can access the list elements by simply using their index surrounded by square brackets (just like strings).\n",
    "* Remember that we use 0 based indexing in Python.\n",
    "    * So the first element in the list has an index of 0.\n",
    "    \n",
    "```python\n",
    "first_element = my_list[0]\n",
    "\n",
    "second_element = my_list[1]\n",
    "\n",
    "last_element = my_list[-1]\n",
    "```\n"
   ]
  },
  {
   "cell_type": "code",
   "execution_count": 26,
   "metadata": {},
   "outputs": [
    {
     "name": "stdout",
     "output_type": "stream",
     "text": [
      "14\n"
     ]
    }
   ],
   "source": [
    "num_list = [2, 5, 22, 9]\n",
    "second_num = num_list[1]       # 5\n",
    "last_num = num_list[-1]        # 9\n",
    "print(second_num + last_num)   # 14"
   ]
  },
  {
   "cell_type": "markdown",
   "metadata": {},
   "source": [
    "### List Slicing\n",
    "\n",
    "* We can also use slicing to get a subset of our list.\n",
    "\n",
    "```python\n",
    "subset = my_list[start_idx : end_idx]\n",
    "subset = my_list[2:8]\n",
    "```\n",
    "\n",
    "Note: Returns everything from start_idx up to, __but not including__, the element at the end_idx position."
   ]
  },
  {
   "cell_type": "code",
   "execution_count": 27,
   "metadata": {},
   "outputs": [
    {
     "name": "stdout",
     "output_type": "stream",
     "text": [
      "[0, 1, 2, 3, 4, 5, 6]\n"
     ]
    }
   ],
   "source": [
    "num_list = [0,1,2,3,4,5,6,7,8,9]\n",
    "print(num_list[:7])"
   ]
  },
  {
   "cell_type": "markdown",
   "metadata": {},
   "source": [
    "### Changing Values in a List\n",
    "\n",
    "* We can use indexes to change the element value at a specific index position."
   ]
  },
  {
   "cell_type": "code",
   "execution_count": 28,
   "metadata": {},
   "outputs": [
    {
     "name": "stdout",
     "output_type": "stream",
     "text": [
      "['apple', 'banana', 'orange']\n",
      "['apple', 'pineapple', 'orange']\n"
     ]
    }
   ],
   "source": [
    "fruits = ['apple', 'banana', 'orange']\n",
    "print(fruits)\n",
    "\n",
    "fruits[1] = 'pineapple'\n",
    "print(fruits)"
   ]
  },
  {
   "cell_type": "markdown",
   "metadata": {},
   "source": [
    "__Note__: We are not able to do the same with strings because they are immutable (can't be changed).\n",
    "\n",
    "Code below would not run and would raise an error:\n",
    "\n",
    "```python\n",
    "string = 'apple'\n",
    "string[0] = 'e'\n",
    "```\n"
   ]
  },
  {
   "cell_type": "markdown",
   "metadata": {},
   "source": [
    "## Some Functions and Methods We Can Use with Lists\n",
    "\n",
    "### List Length\n",
    "\n",
    "* We can use the [__len( )__](https://docs.python.org/3/library/functions.html#len) function to find out the number of elements in our list."
   ]
  },
  {
   "cell_type": "code",
   "execution_count": 29,
   "metadata": {},
   "outputs": [
    {
     "name": "stdout",
     "output_type": "stream",
     "text": [
      "5\n"
     ]
    }
   ],
   "source": [
    "numbers = [-20, -10, 0, 10, 20]\n",
    "print(len(numbers))"
   ]
  },
  {
   "cell_type": "markdown",
   "metadata": {},
   "source": [
    "### The max( ) function\n",
    "\n",
    "* [__max( )__](https://docs.python.org/3/library/functions.html#max) function returns the item with the highest value.\n"
   ]
  },
  {
   "cell_type": "code",
   "execution_count": 30,
   "metadata": {},
   "outputs": [
    {
     "name": "stdout",
     "output_type": "stream",
     "text": [
      "20\n"
     ]
    }
   ],
   "source": [
    "print(max(numbers))"
   ]
  },
  {
   "cell_type": "markdown",
   "metadata": {},
   "source": [
    "### The min( ) function\n",
    "\n",
    "* [__min( )__](https://docs.python.org/3/library/functions.html#min) returns the item with the lowest value."
   ]
  },
  {
   "cell_type": "code",
   "execution_count": 31,
   "metadata": {},
   "outputs": [
    {
     "name": "stdout",
     "output_type": "stream",
     "text": [
      "-20\n"
     ]
    }
   ],
   "source": [
    "print(min(numbers))"
   ]
  },
  {
   "cell_type": "markdown",
   "metadata": {},
   "source": [
    "### Adding New Items to a List\n",
    "\n",
    "* We can add new items to the end of our list using the [__list.append( )__](https://www.programiz.com/python-programming/methods/list/append) method.\n",
    "    * Takes only one argument\n",
    "\n",
    "```python\n",
    "list.append(item)\n",
    "```"
   ]
  },
  {
   "cell_type": "code",
   "execution_count": 32,
   "metadata": {},
   "outputs": [
    {
     "name": "stdout",
     "output_type": "stream",
     "text": [
      "['apple', 'banana', 'orange']\n",
      "['apple', 'banana', 'orange', 'pineapple']\n",
      "['apple', 'banana', 'orange', 'pineapple', 'pear']\n"
     ]
    }
   ],
   "source": [
    "fruits = ['apple', 'banana', 'orange']\n",
    "print(fruits)\n",
    "\n",
    "fruits.append('pineapple')\n",
    "print(fruits)\n",
    "\n",
    "fruits.append('pear')\n",
    "print(fruits)"
   ]
  },
  {
   "cell_type": "markdown",
   "metadata": {},
   "source": [
    "* To add an element at a specific position, we can use the [__list.insert( )__](https://www.programiz.com/python-programming/methods/list/insert) method.\n",
    "\n",
    "```python\n",
    "list.insert(position, item)\n",
    "```"
   ]
  },
  {
   "cell_type": "code",
   "execution_count": 33,
   "metadata": {},
   "outputs": [
    {
     "name": "stdout",
     "output_type": "stream",
     "text": [
      "['apple', 'banana', 'orange', 'pineapple', 'pear']\n",
      "['apple', 'peach', 'banana', 'orange', 'pineapple', 'pear']\n",
      "peach\n"
     ]
    }
   ],
   "source": [
    "print(fruits)\n",
    "fruits.insert(1, 'peach')\n",
    "print(fruits)\n",
    "print(fruits[1])"
   ]
  },
  {
   "cell_type": "markdown",
   "metadata": {},
   "source": [
    "* We can also concatenate lists."
   ]
  },
  {
   "cell_type": "code",
   "execution_count": 34,
   "metadata": {},
   "outputs": [
    {
     "name": "stdout",
     "output_type": "stream",
     "text": [
      "['apple', 'peach', 'banana', 'orange', 'pineapple', 'pear', 'strawberry', 'blueberry']\n"
     ]
    }
   ],
   "source": [
    "berries = ['strawberry', 'blueberry']\n",
    "fruits_and_berries = fruits + berries\n",
    "print(fruits_and_berries)"
   ]
  },
  {
   "cell_type": "markdown",
   "metadata": {},
   "source": [
    "### Removing Items From a List\n",
    "\n",
    "* There are several methods to remove elements from a list.\n",
    "\n",
    "* [__list.remove( )__](https://www.programiz.com/python-programming/methods/list/remove) removes a specific element.\n",
    "    * removes the first matching value\n",
    "    * if specified item is not in the list, raises an error\n",
    "\n",
    "```python\n",
    "list.remove(item)\n",
    "```"
   ]
  },
  {
   "cell_type": "code",
   "execution_count": 35,
   "metadata": {},
   "outputs": [
    {
     "name": "stdout",
     "output_type": "stream",
     "text": [
      "['apple', 'banana', 'orange', 'peach']\n",
      "['apple', 'banana', 'peach']\n"
     ]
    }
   ],
   "source": [
    "fruits = ['apple', 'banana', 'orange', 'peach']\n",
    "print(fruits)\n",
    "fruits.remove('orange')\n",
    "print(fruits)"
   ]
  },
  {
   "cell_type": "markdown",
   "metadata": {},
   "source": [
    "* [__list.pop( )__](https://www.programiz.com/python-programming/methods/list/pop) removes the element at the specified index.\n",
    "    * If index is not given --> removes the last element    \n",
    "```python\n",
    "list.pop(index)\n",
    "```"
   ]
  },
  {
   "cell_type": "code",
   "execution_count": 36,
   "metadata": {},
   "outputs": [
    {
     "name": "stdout",
     "output_type": "stream",
     "text": [
      "['apple', 'banana', 'peach']\n",
      "['apple', 'banana']\n"
     ]
    }
   ],
   "source": [
    "print(fruits)\n",
    "fruits.pop()\n",
    "print(fruits)"
   ]
  },
  {
   "cell_type": "markdown",
   "metadata": {},
   "source": [
    "### Nested Lists\n",
    "\n",
    "* Python lists can have other lists as elements.\n",
    "    * List of lists\n"
   ]
  },
  {
   "cell_type": "code",
   "execution_count": 37,
   "metadata": {
    "collapsed": true
   },
   "outputs": [],
   "source": [
    "nested_list = [[1.0, 2.1, 3.2], ['a', 'b', 'c'], [True, False, False]]"
   ]
  },
  {
   "cell_type": "markdown",
   "metadata": {},
   "source": [
    "* We can use indexes to access the elements of a nested list.\n",
    "\n",
    "```python\n",
    "nested_list = [[1.0, 2.1, 3.2], ['a', 'b', 'c'], [True, False, False]]\n",
    "print(nested_list[0][0]) # Prints 1.0\n",
    "print(nested_list[1][2]) # Prints 'c'\n",
    "```\n",
    "\n",
    "* In the code above:\n",
    "    * First index specifies which item to choose (inner list).\n",
    "    * Second index specifies which item in our inner list to access."
   ]
  },
  {
   "cell_type": "markdown",
   "metadata": {},
   "source": [
    "# Control Flow in Python\n",
    "\n",
    "## The if Statement\n",
    "\n",
    "* Like other programming languages, Python uses [__control flow statements__](https://docs.python.org/3/tutorial/controlflow.html) that alter sequential flow of the program.\n",
    "\n",
    "* The most well-known control flow statement is the [__if__](https://docs.python.org/3/reference/compound_stmts.html#if) statement.\n",
    "\n",
    "```python\n",
    "\n",
    "Some code\n",
    "\n",
    "if condition:\n",
    "    Some block of code\n",
    "    \n",
    "More code\n",
    "```\n",
    "\n",
    "* The program evaluates some condition and will execute the block of code only if that condition evaluates to True.\n",
    "* If condition evaluates to False, the block of code is not executed. \n",
    "* The condition can be any expression.\n",
    "* The body of the __if__ statement is indicated by indentation (1 tab).\n",
    "    * Body starts with indentation\n",
    "    * First unindented line is the end \n",
    "    \n",
    "  \n",
    "  \n",
    "\n",
    "\n",
    "\n",
    "\n",
    "\n"
   ]
  },
  {
   "cell_type": "code",
   "execution_count": 38,
   "metadata": {},
   "outputs": [
    {
     "name": "stdout",
     "output_type": "stream",
     "text": [
      "even\n"
     ]
    }
   ],
   "source": [
    "num_list = [1,1,2,3,5,8,13,21]\n",
    "num = num_list[5] # 8\n",
    "\n",
    "if num % 2 == 0:\n",
    "    print('even')"
   ]
  },
  {
   "cell_type": "code",
   "execution_count": 39,
   "metadata": {},
   "outputs": [],
   "source": [
    "num2 = num_list[0] # 1\n",
    "\n",
    "if num2 % 2 == 0:\n",
    "    print('even')  # Should give no output"
   ]
  },
  {
   "cell_type": "markdown",
   "metadata": {},
   "source": [
    "## The if - else Statement\n",
    "\n",
    "\n",
    "```python\n",
    "if condition:\n",
    "    #Body of if\n",
    "else:\n",
    "    #Body of else\n",
    "```\n",
    "\n",
    "* The [__if - else__](https://www.programiz.com/python-programming/if-elif-else) statement evaluates the condition and will execute the body of __if__ only when  condition evaluates to True.\n",
    "* If the condition evaluates to false, the __else__ block is executed.\n",
    "* Notice the indentation separating the blocks."
   ]
  },
  {
   "cell_type": "code",
   "execution_count": 40,
   "metadata": {},
   "outputs": [
    {
     "name": "stdout",
     "output_type": "stream",
     "text": [
      "negative\n"
     ]
    }
   ],
   "source": [
    "num = -5\n",
    "\n",
    "if num > 0:\n",
    "    print('positive')\n",
    "else:\n",
    "    print('negative')"
   ]
  },
  {
   "cell_type": "markdown",
   "metadata": {},
   "source": [
    "## The if - elif - else Statement\n",
    "\n",
    "* Python also has the [__if-elif-else__](https://www.programiz.com/python-programming/if-elif-else#elif) statement that allows us to check multiple conditions.\n",
    "\n",
    "```python\n",
    "if condition:\n",
    "    #Body of if\n",
    "elif some other condition:\n",
    "    #Body of elif\n",
    "else:\n",
    "    #Body of else\n",
    "```\n",
    "\n",
    "* elif = 'else if'\n",
    "* If the __if__ condition is False, the program evaluates the __elif__ condition.\n",
    "* If all conditions are False, the __else__ block is executed."
   ]
  },
  {
   "cell_type": "code",
   "execution_count": 41,
   "metadata": {},
   "outputs": [
    {
     "name": "stdout",
     "output_type": "stream",
     "text": [
      "zero\n"
     ]
    }
   ],
   "source": [
    "num = 0\n",
    "\n",
    "if num > 0:\n",
    "    print('positive')\n",
    "elif num < 0:\n",
    "    print('negative')\n",
    "else:\n",
    "    print('zero')"
   ]
  },
  {
   "cell_type": "markdown",
   "metadata": {},
   "source": [
    "# Loops in Python\n",
    "\n",
    "## for Loops\n",
    "\n",
    "* Loops allow a block of code to be executed repeatedly.\n",
    "* Very helpful when it comes to processing unknown amounts of data or doing something repetitively.\n",
    "\n",
    "\n",
    "\n",
    "\n",
    "\n",
    "\n",
    "* A [__for__](https://docs.python.org/3/reference/compound_stmts.html#for) loop is used to iterate over a sequence (list, string, dictionary).\n",
    "\n",
    "```python\n",
    "for item in some_sequence:\n",
    "    block of code\n",
    "```\n",
    "\n",
    "* Indentation is important."
   ]
  },
  {
   "cell_type": "code",
   "execution_count": 42,
   "metadata": {},
   "outputs": [
    {
     "name": "stdout",
     "output_type": "stream",
     "text": [
      "2\n",
      "2\n",
      "4\n",
      "6\n",
      "10\n",
      "16\n",
      "26\n",
      "42\n",
      "68\n",
      "110\n"
     ]
    }
   ],
   "source": [
    "# Double every number in the list\n",
    "numbers = [1, 1, 2, 3, 5, 8, 13, 21, 34, 55]\n",
    "for num in numbers:\n",
    "    print(num * 2)"
   ]
  },
  {
   "cell_type": "code",
   "execution_count": 43,
   "metadata": {},
   "outputs": [
    {
     "name": "stdout",
     "output_type": "stream",
     "text": [
      "[0, 2, 4, 6, 8, 10, 12, 14, 16, 18, 20, 22, 24, 26, 28, 30, 32, 34, 36, 38, 40, 42, 44, 46, 48, 50, 52, 54, 56, 58, 60, 62, 64, 66, 68, 70, 72, 74, 76, 78, 80, 82, 84, 86, 88, 90, 92, 94, 96, 98]\n"
     ]
    }
   ],
   "source": [
    "# Iterate over a range of numbers\n",
    "# Extract even numbers and append them to a new list\n",
    "\n",
    "numbers = range(100)        # Creates a sequence of numbers from 0 to 99\n",
    "evens = []                  # New empty list to store even numbers\n",
    "\n",
    "for num in numbers:         # Goes through each number in the sequence\n",
    "    if num % 2 == 0:       \n",
    "        evens.append(num)\n",
    "        \n",
    "print(evens)"
   ]
  },
  {
   "cell_type": "markdown",
   "metadata": {},
   "source": [
    "* We can also iterate over strings."
   ]
  },
  {
   "cell_type": "code",
   "execution_count": 44,
   "metadata": {},
   "outputs": [
    {
     "name": "stdout",
     "output_type": "stream",
     "text": [
      "Th qCk brwn Fx jmps vR th lZy Dg\n"
     ]
    }
   ],
   "source": [
    "# Iterate over a string and print a new string that has all the vowels removed\n",
    "\n",
    "vowels = ['a', 'e', 'i', 'o', 'u']                        # Vowel list\n",
    "string = 'The quICk brOwn Fox jumps OveR thE laZy Dog'    # Some characters are in uppercase\n",
    "\n",
    "new_string = ''                                           # Create an empty string             \n",
    "for character in string:                                  # Go through every character in the string\n",
    "    if character.lower() not in vowels:                   # Check if the character is NOT a vowel\n",
    "        new_string = new_string + character\n",
    "\n",
    "print(new_string)"
   ]
  },
  {
   "cell_type": "markdown",
   "metadata": {},
   "source": [
    "### The break Statement\n",
    "\n",
    "* The [__break__](https://docs.python.org/3/reference/simple_stmts.html#break) statement allows us to exit the loop before it has looped over all the items.\n"
   ]
  },
  {
   "cell_type": "code",
   "execution_count": 45,
   "metadata": {},
   "outputs": [
    {
     "name": "stdout",
     "output_type": "stream",
     "text": [
      "0\n",
      "1\n",
      "2\n",
      "3\n",
      "4\n",
      "5\n"
     ]
    }
   ],
   "source": [
    "for number in range(10):     # Numbers 0 - 9\n",
    "    print(number)\n",
    "    if number == 5:          # Exits the loop if number is equal to 5\n",
    "        break"
   ]
  },
  {
   "cell_type": "markdown",
   "metadata": {},
   "source": [
    "### The continue Statement\n",
    "\n",
    "* The [__continue__](https://docs.python.org/3/reference/simple_stmts.html#grammar-token-continue-stmt) statement skips the current iteration of the loop."
   ]
  },
  {
   "cell_type": "code",
   "execution_count": 46,
   "metadata": {},
   "outputs": [
    {
     "name": "stdout",
     "output_type": "stream",
     "text": [
      "1\n",
      "3\n",
      "5\n",
      "7\n",
      "9\n"
     ]
    }
   ],
   "source": [
    "for number in range(10):    \n",
    "    if number % 2 == 0:\n",
    "        continue\n",
    "    print(number)"
   ]
  },
  {
   "cell_type": "markdown",
   "metadata": {
    "collapsed": true
   },
   "source": [
    "# More on Lists and Strings\n",
    "### List Comprehensions\n",
    "\n",
    "* List comprehensions provide us an easy and concise way to create lists from other iterables.\n",
    "    * With just one line of code\n",
    "    \n",
    "    \n",
    "    \n",
    "* Creating a new list using a loop:\n",
    "\n",
    "```python\n",
    "even_numbers = []\n",
    "for number in range(100):\n",
    "    if number % 2 == 0:\n",
    "        even_numbers.append(number)\n",
    "```\n",
    "* Creating a new list using list comprehension:\n",
    "\n",
    "```python\n",
    "even_numbers = [number for number in range(100) if number % 2 == 0]\n",
    "```\n",
    "\n",
    "Both codes result in same output.\n",
    "\n",
    "* List comprehenion consists of square brackets containing an expression followed by a for statement and optional if statements.\n",
    "* The result will be a new list resulting from evaluating the expression.\n",
    "\n",
    "\n",
    "Syntax:\n",
    "\n",
    "```python\n",
    "new_list = [expression for variable in some_iterable]\n",
    "```"
   ]
  },
  {
   "cell_type": "code",
   "execution_count": 47,
   "metadata": {},
   "outputs": [
    {
     "name": "stdout",
     "output_type": "stream",
     "text": [
      "[1, 4, 9, 16, 25, 36]\n"
     ]
    }
   ],
   "source": [
    "# Squares\n",
    "sequence = [1,2,3,4,5,6]\n",
    "squares = [num ** 2 for num in sequence]\n",
    "\n",
    "print(squares)"
   ]
  },
  {
   "cell_type": "markdown",
   "metadata": {},
   "source": [
    "## The split( ) Method\n",
    "\n",
    "* The [__str.split( )__](https://www.programiz.com/python-programming/methods/string/split) method breaks up a string at a specified separator and returns a list of substrings.\n",
    "\n",
    "\n",
    "```python\n",
    "string.split(separator)\n",
    "```\n",
    "If a separator argument is not provided, the string is split on whitespace."
   ]
  },
  {
   "cell_type": "code",
   "execution_count": 48,
   "metadata": {},
   "outputs": [
    {
     "name": "stdout",
     "output_type": "stream",
     "text": [
      "['This', 'is', 'a', 'sentence.']\n"
     ]
    }
   ],
   "source": [
    "sentence = 'This is a sentence.'\n",
    "words = sentence.split()\n",
    "print(words)"
   ]
  },
  {
   "cell_type": "code",
   "execution_count": 49,
   "metadata": {},
   "outputs": [
    {
     "name": "stdout",
     "output_type": "stream",
     "text": [
      "['CUNY', 'Hunter', 'College']\n"
     ]
    }
   ],
   "source": [
    "college_string = 'CUNY$Hunter$College'\n",
    "college_list = college_string.split('$')\n",
    "print(college_list)"
   ]
  },
  {
   "cell_type": "markdown",
   "metadata": {},
   "source": [
    "## The join( ) Method\n",
    "\n",
    "* [__str.join( )__](https://www.programiz.com/python-programming/methods/string/join) is like the inverse of __split( )__.\n",
    "* It returns a string in which the __string__ elements of sequence have been joined by str separator.\n",
    "\n",
    "\n",
    "```python\n",
    "joined_string = str.join(sequence)\n",
    "```\n",
    "* sequence: sequence of elements that we want to join\n",
    "* str: separator\n",
    "\n",
    "If the sequence contains any non-string values, Python raises an error."
   ]
  },
  {
   "cell_type": "code",
   "execution_count": 50,
   "metadata": {},
   "outputs": [
    {
     "name": "stdout",
     "output_type": "stream",
     "text": [
      "June*July*August\n"
     ]
    }
   ],
   "source": [
    "month_lst = ['June', 'July', 'August']\n",
    "separator = '*'\n",
    "month_str = separator.join(month_lst)\n",
    "print(month_str)"
   ]
  },
  {
   "cell_type": "code",
   "execution_count": 51,
   "metadata": {},
   "outputs": [
    {
     "name": "stdout",
     "output_type": "stream",
     "text": [
      "abcd\n"
     ]
    }
   ],
   "source": [
    "chars = ['a', 'b', 'c', 'd']\n",
    "string = ''.join(chars)\n",
    "print(string)"
   ]
  },
  {
   "cell_type": "markdown",
   "metadata": {},
   "source": [
    "# Functions\n",
    "\n",
    "* So far we have used several functions such as\n",
    "    * __print( )__\n",
    "    * __len( )__\n",
    "    * __max( )__\n",
    "    * __min( )__\n",
    "\n",
    "### What is a Function? \n",
    "\n",
    "* Python function is a group of related statements that perform a specific task.\n",
    "* Usually a function:\n",
    "    1. Takes in some input\n",
    "    2. Does something to that input\n",
    "    3. Returns some output\n",
    "    \n",
    "```python\n",
    "numbers = [42, 1, 6, 2, 0]\n",
    "print(len(numbers))  # Prints 5\n",
    "```\n",
    "\n",
    "* What does the __len( )__ function really do?\n",
    "\n",
    "```python\n",
    "numbers = [42, 1, 6, 2, 0]\n",
    "length = 0                    # Initialize a variable with a value of 0\n",
    "for item in numbers:          # Loop through the list\n",
    "    length += 1               # Increment the length variable by 1 for each item in the list\n",
    "print(length)\n",
    "```\n",
    "\n",
    "\n",
    "### Why are Functions Helpful?\n",
    "* Functions help us to work faster and simplify our code.\n",
    "    * Especially when it comes to repetitive tasks.\n",
    "* They also break our program into smaller chunks, making it more organized and easier to manage.\n",
    "\n",
    "\n",
    "\n",
    "* Python has a variety of built-in functions that simplify our work.\n",
    "    * However, it doesn't have a built-in function for every task we might want to do.\n",
    "    \n",
    "    \n",
    "* Python allows us to write our own functions.\n",
    "\n",
    "\n",
    "\n",
    "### Defining a Function\n",
    "\n",
    "Syntax\n",
    "```python\n",
    "def function_name(parameters):\n",
    "    some statements\n",
    "    return some value\n",
    "```\n",
    "\n",
    "* Rewriting the length function:\n",
    "\n",
    "```python\n",
    "def my_len(sequence):\n",
    "    length = 0\n",
    "    for item in sequence:\n",
    "        length += 1\n",
    "    return length\n",
    "```"
   ]
  },
  {
   "cell_type": "code",
   "execution_count": 52,
   "metadata": {},
   "outputs": [
    {
     "name": "stdout",
     "output_type": "stream",
     "text": [
      "4\n",
      "4\n"
     ]
    }
   ],
   "source": [
    "# Test out the my_len() function\n",
    "def my_len(sequence):\n",
    "    length = 0\n",
    "    for item in sequence:\n",
    "        length += 1\n",
    "    return length\n",
    "\n",
    "\n",
    "my_list = ['a', 'b', 'c', 'd']\n",
    "print(len(my_list))              # len()\n",
    "print(my_len(my_list))           # my_len()"
   ]
  },
  {
   "cell_type": "code",
   "execution_count": 53,
   "metadata": {},
   "outputs": [
    {
     "name": "stdout",
     "output_type": "stream",
     "text": [
      "30\n"
     ]
    }
   ],
   "source": [
    "# A function that takes in a list of numbers as its argument and returns the sum of its values\n",
    "\n",
    "def my_sum(list_of_numbers):\n",
    "    total = 0\n",
    "    for number in list_of_numbers:\n",
    "        total += number\n",
    "    return total\n",
    "\n",
    "total = my_sum([2, 4, 6, 8, 10])\n",
    "print(total)"
   ]
  },
  {
   "cell_type": "markdown",
   "metadata": {},
   "source": [
    "* We can write functions that take in more than one argument:"
   ]
  },
  {
   "cell_type": "code",
   "execution_count": 54,
   "metadata": {},
   "outputs": [
    {
     "name": "stdout",
     "output_type": "stream",
     "text": [
      "4\n",
      "32\n",
      "15625\n"
     ]
    }
   ],
   "source": [
    "# A function that takes in two numbers as its arguments: base and power\n",
    "# The function should return the base raised to the given power\n",
    "\n",
    "def power(base, power):\n",
    "    return base ** power\n",
    "\n",
    "print(power(2, 2))\n",
    "print(power(2, 5))\n",
    "print(power(5, 6))"
   ]
  },
  {
   "cell_type": "markdown",
   "metadata": {},
   "source": [
    "### The __map( )__ function\n",
    "\n",
    "* The [__map( )__](https://docs.python.org/3/library/functions.html#map) function applies a given function to each element of an iterable object (list) and returns a map object of the results.\n",
    "* The returned object can be converted to a list using the [__list( )__](https://www.programiz.com/python-programming/methods/built-in/list) function for better access and readability.\n",
    "\n",
    "```Python\n",
    "map(function, iterable)\n",
    "```"
   ]
  },
  {
   "cell_type": "code",
   "execution_count": 55,
   "metadata": {},
   "outputs": [
    {
     "name": "stdout",
     "output_type": "stream",
     "text": [
      "['8', '65', '32', '9', '100']\n"
     ]
    }
   ],
   "source": [
    "# Convert each number to a string\n",
    "num_list = [8, 65, 32, 9, 100]\n",
    "string_list = map(str, num_list)\n",
    "print(list(string_list))"
   ]
  },
  {
   "cell_type": "markdown",
   "metadata": {},
   "source": [
    "### Lambda (Anonymous) Functions\n",
    "\n",
    "* Usually, such a function is meant for one-time use. \n",
    "\n",
    "```Python\n",
    "lambda arguments: expression\n",
    "```\n",
    "\n",
    "* Lambda functions can have any number of arguments but only one expression"
   ]
  },
  {
   "cell_type": "code",
   "execution_count": 56,
   "metadata": {},
   "outputs": [
    {
     "name": "stdout",
     "output_type": "stream",
     "text": [
      "[2, 8, 16, 40, 90, 48, 112]\n"
     ]
    }
   ],
   "source": [
    "num_list = [1, 4, 8, 20, 45, 24, 56]\n",
    "\n",
    "# Double every value in the num_list\n",
    "doubled = map(lambda x: x * 2, num_list)\n",
    "\n",
    "print(list(doubled))"
   ]
  },
  {
   "cell_type": "markdown",
   "metadata": {},
   "source": [
    "# Dictionaries\n",
    "\n",
    "* Python [__dictionary__](https://docs.python.org/3/library/stdtypes.html#dict) is an unordered collection of key-value pairs.\n",
    "    * Similar to hashes in Perl\n",
    "* Keys have to be unique and immutable.\n",
    "    * Valid keys: strings, integers, floats, tuples\n",
    "    * Not valid keys: lists, dictionaries (mutable)\n",
    "* Values do not have to be unique and they can be of any type.\n",
    "\n",
    "\n",
    "### Creating a Dictionary\n",
    "\n",
    "* Place a sequence of key-value pairs within curly braces { }\n",
    "\n",
    "\n",
    "```python\n",
    "my_dictionary = {key_1: value_1, key_2: value_2, key_3: value_3}\n",
    "```"
   ]
  },
  {
   "cell_type": "code",
   "execution_count": 57,
   "metadata": {},
   "outputs": [
    {
     "name": "stdout",
     "output_type": "stream",
     "text": [
      "{'English': 80, 'Physics': 85, 'Biology': 92}\n"
     ]
    }
   ],
   "source": [
    "student_grades = {'English': 80, \n",
    "                  'Physics': 85, \n",
    "                  'Biology': 92\n",
    "                 }\n",
    "print(student_grades)"
   ]
  },
  {
   "cell_type": "markdown",
   "metadata": {},
   "source": [
    "### Accessing Elements in a Dictionary\n",
    "\n",
    "* We can access the value of a dictionary by referring to its key surrounded by square brackets.\n",
    "\n",
    "```python\n",
    "value = dictionary[key]\n",
    "```\n",
    "\n",
    "\n",
    "```python\n",
    "student_grades = {'English': 80, \n",
    "                  'Physics': 85, \n",
    "                  'Biology': 92\n",
    "                 }\n",
    "# Get Biology grade\n",
    "print(student_grades['Biology'])\n",
    "```\n",
    "\n",
    "* Trying to access keys that don't exist in the dictionary will raise an error."
   ]
  },
  {
   "cell_type": "code",
   "execution_count": 58,
   "metadata": {},
   "outputs": [
    {
     "name": "stdout",
     "output_type": "stream",
     "text": [
      "Rome\n",
      "Madrid\n"
     ]
    }
   ],
   "source": [
    "capitals = {'France': 'Paris', 'Italy': 'Rome', 'Germany': 'Berlin', 'Spain': 'Madrid'}\n",
    "print(capitals['Italy'])\n",
    "print(capitals['Spain'])"
   ]
  },
  {
   "cell_type": "markdown",
   "metadata": {},
   "source": [
    "### Changing and Adding Elements in a Dictionary\n",
    "\n",
    "Changing a value:\n",
    "\n",
    "* Refer to its key and assign a new value\n",
    "\n",
    "\n",
    "```python\n",
    "student_grades = {'English': 80, \n",
    "                  'Physics': 85, \n",
    "                  'Biology': 92\n",
    "                 }\n",
    "# Change English grade\n",
    "student_grades['English'] = 95\n",
    "```\n",
    "\n",
    "\n",
    "\n",
    "\n",
    "Adding a new key-value pair:\n",
    "\n",
    "* Use a new index key and assign a value to it\n",
    "\n",
    "\n",
    "```python\n",
    "student_grades = {'English': 95, \n",
    "                  'Physics': 85, \n",
    "                  'Biology': 92\n",
    "                 }\n",
    "# Add a new subject and a grade\n",
    "student_grades['History'] = 90\n",
    "```\n",
    "\n",
    "\n",
    "\n",
    "\n",
    "Updated dictionary should look like this:\n",
    "\n",
    "\n",
    "```python\n",
    "student_grades = {'English': 95, \n",
    "                  'Physics': 85, \n",
    "                  'Biology': 92,\n",
    "                  'History': 90\n",
    "                 }\n",
    "```"
   ]
  },
  {
   "cell_type": "code",
   "execution_count": 59,
   "metadata": {},
   "outputs": [
    {
     "name": "stdout",
     "output_type": "stream",
     "text": [
      "{'apple': 3, 'orange': 5, 'pear': 3}\n",
      "{'apple': 5, 'orange': 2, 'pear': 3}\n",
      "{'apple': 5, 'orange': 2, 'pear': 3, 'banana': 2}\n"
     ]
    }
   ],
   "source": [
    "fruit_dict = {'apple': 3, 'orange': 5, 'pear': 3}\n",
    "print(fruit_dict)\n",
    "\n",
    "fruit_dict['apple'] = 5\n",
    "fruit_dict['orange'] = 2\n",
    "print(fruit_dict)\n",
    "\n",
    "fruit_dict['banana'] = 2\n",
    "print(fruit_dict)"
   ]
  },
  {
   "cell_type": "markdown",
   "metadata": {},
   "source": [
    "### Removing Items from a Dictionary\n",
    "\n",
    "* We can use the method [__dict.pop( )__](https://www.programiz.com/python-programming/methods/dictionary/pop).\n",
    "* Removes specific key-value pair.\n",
    "\n",
    "```Python\n",
    "dict.pop(key)\n",
    "```"
   ]
  },
  {
   "cell_type": "code",
   "execution_count": 60,
   "metadata": {},
   "outputs": [
    {
     "name": "stdout",
     "output_type": "stream",
     "text": [
      "{'apple': 3, 'orange': 5, 'banana': 3}\n",
      "{'apple': 3, 'banana': 3}\n"
     ]
    }
   ],
   "source": [
    "fruit_dict = {'apple': 3, 'orange': 5, 'banana': 3}\n",
    "print(fruit_dict)\n",
    "\n",
    "fruit_dict.pop('orange')   # Removes orange\n",
    "print(fruit_dict)"
   ]
  },
  {
   "cell_type": "markdown",
   "metadata": {},
   "source": [
    "### Some Python Dictionary Methods\n",
    "\n",
    "### The keys( ) method\n",
    "\n",
    "* The [__dict.keys( )__](https://www.programiz.com/python-programming/methods/dictionary/keys) method returns a view of dictionary's keys."
   ]
  },
  {
   "cell_type": "code",
   "execution_count": 61,
   "metadata": {},
   "outputs": [
    {
     "name": "stdout",
     "output_type": "stream",
     "text": [
      "dict_keys(['English', 'Physics', 'Biology', 'History', 'Calculus'])\n"
     ]
    }
   ],
   "source": [
    "student_grades = {'English': 85, 'Physics': 90, 'Biology': 92, 'History': 99, 'Calculus': 91}\n",
    "print(student_grades.keys())"
   ]
  },
  {
   "cell_type": "markdown",
   "metadata": {},
   "source": [
    "* We can convert this view into a list using the [__list( )__](https://docs.python.org/3/library/functions.html#func-list) function."
   ]
  },
  {
   "cell_type": "code",
   "execution_count": 62,
   "metadata": {},
   "outputs": [
    {
     "name": "stdout",
     "output_type": "stream",
     "text": [
      "['English', 'Physics', 'Biology', 'History', 'Calculus']\n"
     ]
    }
   ],
   "source": [
    "key_list = list(student_grades.keys())\n",
    "print(key_list)"
   ]
  },
  {
   "cell_type": "markdown",
   "metadata": {},
   "source": [
    "### The values( ) method\n",
    "\n",
    "* The [__dict.values( )__](https://www.programiz.com/python-programming/methods/dictionary/values) method returns a view of dictionary's values."
   ]
  },
  {
   "cell_type": "code",
   "execution_count": 63,
   "metadata": {},
   "outputs": [
    {
     "name": "stdout",
     "output_type": "stream",
     "text": [
      "dict_values([85, 90, 92, 99, 91])\n",
      "[85, 90, 92, 99, 91]\n"
     ]
    }
   ],
   "source": [
    "print(student_grades.values())            # Print as a view\n",
    "print(list(student_grades.values()))      # Print as a list"
   ]
  },
  {
   "cell_type": "markdown",
   "metadata": {},
   "source": [
    "### The items( ) method\n",
    "\n",
    "* The [__dict.items( )__](https://www.programiz.com/python-programming/methods/dictionary/items) method returns a view of dictionary items (keys and values)."
   ]
  },
  {
   "cell_type": "code",
   "execution_count": 64,
   "metadata": {},
   "outputs": [
    {
     "name": "stdout",
     "output_type": "stream",
     "text": [
      "dict_items([('English', 85), ('Physics', 90), ('Biology', 92), ('History', 99), ('Calculus', 91)])\n",
      "[('English', 85), ('Physics', 90), ('Biology', 92), ('History', 99), ('Calculus', 91)]\n"
     ]
    }
   ],
   "source": [
    "print(student_grades.items())\n",
    "\n",
    "print(list(student_grades.items()))"
   ]
  },
  {
   "cell_type": "markdown",
   "metadata": {},
   "source": [
    "### Looping Through a Dictionary\n",
    "\n",
    "* We can use a __for__ loop to iterate through every key in a dictionary."
   ]
  },
  {
   "cell_type": "code",
   "execution_count": 65,
   "metadata": {},
   "outputs": [
    {
     "name": "stdout",
     "output_type": "stream",
     "text": [
      "English\n",
      "Physics\n",
      "Biology\n",
      "History\n",
      "Calculus\n"
     ]
    }
   ],
   "source": [
    "for subject in student_grades:\n",
    "    print(subject)"
   ]
  },
  {
   "cell_type": "markdown",
   "metadata": {},
   "source": [
    "* Use __dict.items( )__ to iterate through each key and value in a dictionary."
   ]
  },
  {
   "cell_type": "code",
   "execution_count": 66,
   "metadata": {},
   "outputs": [
    {
     "name": "stdout",
     "output_type": "stream",
     "text": [
      "English 85\n",
      "Physics 90\n",
      "Biology 92\n",
      "History 99\n",
      "Calculus 91\n"
     ]
    }
   ],
   "source": [
    "for subject, grade in student_grades.items():\n",
    "    print(subject, grade)"
   ]
  },
  {
   "cell_type": "markdown",
   "metadata": {},
   "source": [
    "### Dictionaries as Frequency Tables\n",
    "\n",
    "* We can use Python dictionaries as frequency tables:"
   ]
  },
  {
   "cell_type": "code",
   "execution_count": 67,
   "metadata": {},
   "outputs": [
    {
     "name": "stdout",
     "output_type": "stream",
     "text": [
      "{'c': 10, 'g': 8, 't': 8, 'a': 9}\n"
     ]
    }
   ],
   "source": [
    "# A function that counts the frequency of each character in a string\n",
    "\n",
    "def count_chars(string):\n",
    "    char_count = {}                       # Initialize an empty dictionary\n",
    "    for char in string:\n",
    "        if char in char_count:            # Check if the character is already in the dictionary\n",
    "            char_count[char] += 1         # Increment the value by 1 if the character is already in the dict\n",
    "        else:\n",
    "            char_count[char] = 1          # If the character is not in the dictionary yet, set the value to 1\n",
    "    return char_count                     # Return the character count dictionary\n",
    "\n",
    "dna = 'cccggtcggccgacaacaggtcgattcataatatt'\n",
    "\n",
    "print(count_chars(dna))"
   ]
  },
  {
   "cell_type": "markdown",
   "metadata": {},
   "source": [
    "# Modules in Python\n",
    "\n",
    "* __Modules__ are files containing Python definitions and statements that are made to use in other Python programs.\n",
    "\n",
    "* Python has many [__built-in modules__](https://docs.python.org/3/py-modindex.html) as part of its standard library.\n",
    "    * [__math__](https://docs.python.org/3/library/math.html) : provides access to mathematical functions.\n",
    "    * [__statistics__](https://docs.python.org/3/library/statistics.html) : provides functions for calculating mathematical statistics of numeric data.\n",
    "    * [__random__](https://docs.python.org/3/library/random.html) : provides random number generators for various distributions.\n",
    "    * [__re__](https://docs.python.org/3/library/re.html) : provides regular expression matching operations similar to those in Perl.\n",
    "    \n",
    "  \n",
    "### Using Modules\n",
    "\n",
    "* To use a module in our program we first need to __import__ it.\n",
    "\n",
    "\n",
    "\n",
    "```Python\n",
    "import module\n",
    "```\n",
    "\n",
    "* In order to use something contained in the module, we use the dot notation.\n",
    "* We provide the module name and the specific function/object we want to use.\n",
    "\n",
    "\n",
    "```Python\n",
    "module.function()\n",
    "```    "
   ]
  },
  {
   "cell_type": "code",
   "execution_count": 68,
   "metadata": {},
   "outputs": [
    {
     "name": "stdout",
     "output_type": "stream",
     "text": [
      "24\n"
     ]
    }
   ],
   "source": [
    "import math # Import the module we wish to use\n",
    "\n",
    "number = 4\n",
    "number_factorial = math.factorial(number)  # Use the math.factorial() function from the math module \n",
    "print(number_factorial)"
   ]
  },
  {
   "cell_type": "code",
   "execution_count": 69,
   "metadata": {},
   "outputs": [
    {
     "name": "stdout",
     "output_type": "stream",
     "text": [
      "4.0\n"
     ]
    }
   ],
   "source": [
    "print(math.sqrt(16))   # Square root"
   ]
  },
  {
   "cell_type": "markdown",
   "metadata": {},
   "source": [
    "* If we already know which specific module function/object we wish to use, we can use different syntax.\n",
    "\n",
    "\n",
    "```Python\n",
    "from module import function\n",
    "```\n",
    "\n",
    "* When we use this syntax, we do not need to use the dot notation.\n",
    "* We can call the function directly.\n",
    "\n",
    "\n",
    "```\n",
    "function(some_variable)\n",
    "```\n",
    "\n",
    "* Pros of using this syntax:\n",
    "    * Less typing and could make code more readable\n",
    "    * More control over which module functions/objects can be accessed\n",
    "* Cons:\n",
    "    * We have to update our import statement each time we wish to use some other module item"
   ]
  },
  {
   "cell_type": "code",
   "execution_count": 70,
   "metadata": {},
   "outputs": [
    {
     "name": "stdout",
     "output_type": "stream",
     "text": [
      "Mean:  79.14285714285714\n",
      "Standard deviation:  16.757372222682285\n"
     ]
    }
   ],
   "source": [
    "from statistics import mean, stdev\n",
    "data = [86, 65, 90, 100, 72, 89, 52]\n",
    "\n",
    "print('Mean: ', mean(data))\n",
    "print('Standard deviation: ', stdev(data))"
   ]
  },
  {
   "cell_type": "markdown",
   "metadata": {},
   "source": [
    "# NumPy\n",
    "\n",
    "* [__NumPy__](https://docs.scipy.org/doc/) is a Python module used for scientific computing.\n",
    "* It supports various numerical operations, linear algebra, and multi-dimensional array manipulation.\n",
    "* It is very useful when it comes to working with large datasets because it uses vectorization, which greatly improves data processing efficiency.\n",
    "\n",
    "\n",
    "\n",
    "\n",
    "\n",
    "\n",
    "\n",
    "* The core data structure in NumPy is the __ndarray__ (__n-dimensional array__).\n",
    "* At first glance it looks similar to a Python list data structure.\n",
    "    * However, they are different.\n",
    "    \n",
    "\n",
    "\n",
    "* NumPy arrays perform better than Python lists when it comes to:\n",
    "    * Size - they take up less space.\n",
    "    * Performance - working with them is faster.\n",
    "    \n",
    "    \n",
    "    \n",
    "* Once we create an array, we cannot change its size.\n",
    "    * Need to create a new one.\n",
    "\n",
    "\n",
    "\n",
    "\n",
    "\n",
    "* To use the NumPy module we need to import it first.\n",
    "* By convention NumPy is usually imported using the alias __np__.\n",
    "\n",
    "```Python\n",
    "import numpy as np   \n",
    "```\n",
    "\n",
    "\n",
    "* We can convert a Python list to a NumPy array using the [__np.array( )__](https://docs.scipy.org/doc/numpy/reference/generated/numpy.array.html) function.\n",
    "\n",
    "```Python\n",
    "np.array([1,2,3,4])\n",
    "```\n"
   ]
  },
  {
   "cell_type": "code",
   "execution_count": 71,
   "metadata": {},
   "outputs": [
    {
     "name": "stdout",
     "output_type": "stream",
     "text": [
      "List:  [1, 2, 3, 4, 5]\n",
      "NumPy array:  [1 2 3 4 5]\n"
     ]
    }
   ],
   "source": [
    "import numpy as np\n",
    "\n",
    "data_list = [1,2,3,4,5]\n",
    "data_array = np.array(data_list)\n",
    "\n",
    "print('List: ', data_list)\n",
    "print('NumPy array: ', data_array)"
   ]
  },
  {
   "cell_type": "markdown",
   "metadata": {},
   "source": [
    "Creating a 2 dimensional array:"
   ]
  },
  {
   "cell_type": "code",
   "execution_count": 72,
   "metadata": {},
   "outputs": [
    {
     "name": "stdout",
     "output_type": "stream",
     "text": [
      "[[1 2 3]\n",
      " [4 5 6]\n",
      " [7 8 9]]\n"
     ]
    }
   ],
   "source": [
    "nested_list = [[1,2,3], [4,5,6], [7,8,9]]\n",
    "array = np.array(nested_list)\n",
    "print(array)"
   ]
  },
  {
   "cell_type": "markdown",
   "metadata": {},
   "source": [
    "### Exploring NumPy Arrays\n",
    "\n",
    "* We will often want to know the shape of our array (number of rows and columns)\n",
    "* Use [__np.ndarray.shape__](https://docs.scipy.org/doc/numpy/reference/generated/numpy.ndarray.shape.html)\n",
    "\n",
    "\n",
    "```Python\n",
    "ndarray.shape\n",
    "```"
   ]
  },
  {
   "cell_type": "code",
   "execution_count": 73,
   "metadata": {
    "scrolled": true
   },
   "outputs": [
    {
     "name": "stdout",
     "output_type": "stream",
     "text": [
      "(3, 3)\n"
     ]
    }
   ],
   "source": [
    "print(array.shape)   # Prints (number of rows, number of columns)"
   ]
  },
  {
   "cell_type": "markdown",
   "metadata": {},
   "source": [
    "* [__np.ndarray.size__](https://docs.scipy.org/doc/numpy/reference/generated/numpy.ndarray.size.html) returns the size of the array\n",
    "\n",
    "\n",
    "```Python\n",
    "ndarray.size\n",
    "```"
   ]
  },
  {
   "cell_type": "code",
   "execution_count": 74,
   "metadata": {},
   "outputs": [
    {
     "name": "stdout",
     "output_type": "stream",
     "text": [
      "9\n"
     ]
    }
   ],
   "source": [
    "print(array.size)"
   ]
  },
  {
   "cell_type": "markdown",
   "metadata": {},
   "source": [
    "* Use [__np.ndarray.ndim__](https://docs.scipy.org/doc/numpy/reference/generated/numpy.ndarray.ndim.html) to see the number of dimensions\n",
    "\n",
    "```Python\n",
    "ndarray.ndim\n",
    "```"
   ]
  },
  {
   "cell_type": "code",
   "execution_count": 75,
   "metadata": {},
   "outputs": [
    {
     "name": "stdout",
     "output_type": "stream",
     "text": [
      "2\n"
     ]
    }
   ],
   "source": [
    "print(array.ndim)"
   ]
  },
  {
   "cell_type": "markdown",
   "metadata": {},
   "source": [
    "### Basic Operations\n",
    "\n",
    "* Arithmetic operators on NumPy arrays apply elementwise (arrays have to be same size)\n",
    "* A new array is produced\n"
   ]
  },
  {
   "cell_type": "code",
   "execution_count": 76,
   "metadata": {},
   "outputs": [
    {
     "name": "stdout",
     "output_type": "stream",
     "text": [
      "[11 22 33 44]\n"
     ]
    }
   ],
   "source": [
    "x = np.array( [10, 20, 30, 40] )\n",
    "y = np.array( [1, 2, 3, 4] )\n",
    "\n",
    "# Addition\n",
    "print(x + y)"
   ]
  },
  {
   "cell_type": "code",
   "execution_count": 77,
   "metadata": {},
   "outputs": [
    {
     "name": "stdout",
     "output_type": "stream",
     "text": [
      "[ 9 18 27 36]\n"
     ]
    }
   ],
   "source": [
    "# Subtraction\n",
    "print(x - y)"
   ]
  },
  {
   "cell_type": "code",
   "execution_count": 78,
   "metadata": {},
   "outputs": [
    {
     "name": "stdout",
     "output_type": "stream",
     "text": [
      "[ 30  60  90 120]\n",
      "[2 4 6 8]\n"
     ]
    }
   ],
   "source": [
    "# Multiplication by a constant\n",
    "print(x * 3)\n",
    "print(y * 2)"
   ]
  },
  {
   "cell_type": "markdown",
   "metadata": {},
   "source": [
    "### Selecting Specific Items from an Array\n",
    "\n",
    "* We can extract specific items from our NumPy array using their indexes.\n",
    "* Similar to Python lists.\n",
    "\n",
    "\n",
    "\n",
    "#### One Dimensional Arrays\n",
    "```Python\n",
    "array[index]\n",
    "```"
   ]
  },
  {
   "cell_type": "code",
   "execution_count": 79,
   "metadata": {},
   "outputs": [
    {
     "name": "stdout",
     "output_type": "stream",
     "text": [
      "10\n",
      "50\n",
      "30\n"
     ]
    }
   ],
   "source": [
    "array1d = np.array([10, 20, 30, 40, 50])\n",
    "\n",
    "print(array1d[0])\n",
    "print(array1d[-1])\n",
    "print(array1d[2])"
   ]
  },
  {
   "cell_type": "markdown",
   "metadata": {},
   "source": [
    "#### Two Dimensional Arrays\n",
    "\n",
    "* Selecting a single row\n",
    "\n",
    "```Python\n",
    "array2d[index]\n",
    "```\n",
    "\n",
    "Produces a 1D ndarray\n"
   ]
  },
  {
   "cell_type": "code",
   "execution_count": 80,
   "metadata": {},
   "outputs": [
    {
     "name": "stdout",
     "output_type": "stream",
     "text": [
      "[[ 0  1  2  3]\n",
      " [ 4  5  6  7]\n",
      " [ 8  9 10 11]\n",
      " [12 13 14 15]\n",
      " [16 17 18 19]]\n"
     ]
    }
   ],
   "source": [
    "array2d = np.array([[0, 1, 2, 3], [4, 5, 6, 7], [8, 9, 10, 11], [12, 13, 14, 15], [16, 17, 18, 19]])\n",
    "print(array2d)"
   ]
  },
  {
   "cell_type": "code",
   "execution_count": 81,
   "metadata": {},
   "outputs": [
    {
     "name": "stdout",
     "output_type": "stream",
     "text": [
      "[4 5 6 7]\n"
     ]
    }
   ],
   "source": [
    "second_row = array2d[1]\n",
    "print(second_row)"
   ]
  },
  {
   "cell_type": "markdown",
   "metadata": {},
   "source": [
    "* Selecting multiple rows\n",
    "\n",
    "```Python\n",
    "array2d[start_index:end_index]\n",
    "```\n",
    "\n",
    "Produces a 2D ndarray"
   ]
  },
  {
   "cell_type": "code",
   "execution_count": 82,
   "metadata": {},
   "outputs": [
    {
     "name": "stdout",
     "output_type": "stream",
     "text": [
      "[[ 8  9 10 11]\n",
      " [12 13 14 15]\n",
      " [16 17 18 19]]\n",
      "\n",
      "[[ 4  5  6  7]\n",
      " [ 8  9 10 11]]\n"
     ]
    }
   ],
   "source": [
    "print(array2d[2:])\n",
    "print()\n",
    "print(array2d[1:3])  # From index 1 up to but not including index 3"
   ]
  },
  {
   "cell_type": "markdown",
   "metadata": {},
   "source": [
    "* Selecting a single item\n",
    "\n",
    "```Python\n",
    "array2d[row, column]\n",
    "```\n",
    "\n",
    "Produces a single Python object"
   ]
  },
  {
   "cell_type": "code",
   "execution_count": 83,
   "metadata": {},
   "outputs": [
    {
     "name": "stdout",
     "output_type": "stream",
     "text": [
      "17\n"
     ]
    }
   ],
   "source": [
    "print(array2d[4, 1])"
   ]
  },
  {
   "cell_type": "markdown",
   "metadata": {},
   "source": [
    "* Selecting a single column\n",
    "\n",
    "```Python\n",
    "array[:, column]\n",
    "```\n",
    "\n",
    "* \" : \" means that we are selecting all rows\n",
    "\n",
    "Produces a 1D ndarray"
   ]
  },
  {
   "cell_type": "code",
   "execution_count": 84,
   "metadata": {},
   "outputs": [
    {
     "name": "stdout",
     "output_type": "stream",
     "text": [
      "[[ 0  1  2  3]\n",
      " [ 4  5  6  7]\n",
      " [ 8  9 10 11]\n",
      " [12 13 14 15]\n",
      " [16 17 18 19]]\n",
      "\n",
      "[ 2  6 10 14 18]\n"
     ]
    }
   ],
   "source": [
    "print(array2d)\n",
    "print()\n",
    "print(array2d[:,2])"
   ]
  },
  {
   "cell_type": "markdown",
   "metadata": {},
   "source": [
    "* Selecting multiple columns\n",
    "\n",
    "```Python\n",
    "array2d[:, start_col:end_col]\n",
    "```\n",
    "\n",
    "Produces a 2D ndarray"
   ]
  },
  {
   "cell_type": "code",
   "execution_count": 85,
   "metadata": {},
   "outputs": [
    {
     "name": "stdout",
     "output_type": "stream",
     "text": [
      "[[ 0  1  2  3]\n",
      " [ 4  5  6  7]\n",
      " [ 8  9 10 11]\n",
      " [12 13 14 15]\n",
      " [16 17 18 19]]\n",
      "\n",
      "[[ 0  1]\n",
      " [ 4  5]\n",
      " [ 8  9]\n",
      " [12 13]\n",
      " [16 17]]\n"
     ]
    }
   ],
   "source": [
    "print(array2d)\n",
    "print()\n",
    "print(array2d[:, 0:2])"
   ]
  },
  {
   "cell_type": "markdown",
   "metadata": {},
   "source": [
    "* Selecting multiple specific columns\n",
    "\n",
    "```Python\n",
    "arr2d[:,[columns]]   # Pass in a list of column indexes\n",
    "```\n",
    "\n",
    "Produces a 2D ndarray"
   ]
  },
  {
   "cell_type": "code",
   "execution_count": 86,
   "metadata": {},
   "outputs": [
    {
     "name": "stdout",
     "output_type": "stream",
     "text": [
      "[[ 0  2  3]\n",
      " [ 4  6  7]\n",
      " [ 8 10 11]\n",
      " [12 14 15]\n",
      " [16 18 19]]\n"
     ]
    }
   ],
   "source": [
    "cols = [0,2,3]\n",
    "print(array2d[:, cols])"
   ]
  },
  {
   "cell_type": "markdown",
   "metadata": {},
   "source": [
    "### Boolean Indexing\n",
    "\n",
    "* We can perform boolean operations on ndarrays"
   ]
  },
  {
   "cell_type": "code",
   "execution_count": 87,
   "metadata": {},
   "outputs": [
    {
     "name": "stdout",
     "output_type": "stream",
     "text": [
      "[ True False  True False  True]\n"
     ]
    }
   ],
   "source": [
    "print(np.array( [2, 20, 6, 10, 8] ) < 10)"
   ]
  },
  {
   "cell_type": "markdown",
   "metadata": {},
   "source": [
    "* A new boolean array is returned.\n",
    "* Each value of the array is compared to 10.\n",
    "* If the value is < 10, True is returned.\n",
    "* If the value is > 10, False is returned."
   ]
  },
  {
   "cell_type": "markdown",
   "metadata": {},
   "source": [
    "* NumPy arrays support boolean indexing.\n",
    "* We can select items in our arrays using boolean arrays.\n",
    "    * Insert the boolean array into square brackets.\n",
    "    \n",
    "```Python\n",
    "ndarray[boolean_array]\n",
    "```"
   ]
  },
  {
   "cell_type": "code",
   "execution_count": 88,
   "metadata": {},
   "outputs": [
    {
     "name": "stdout",
     "output_type": "stream",
     "text": [
      "[False False  True False False  True  True]\n",
      "[ 62 200 478]\n"
     ]
    }
   ],
   "source": [
    "# Create a new array containing positive values\n",
    "my_array = np.array( [-2, -154, 62, 0, -843, 200, 478] )\n",
    "bool_array = my_array > 0\n",
    "print(bool_array)\n",
    "\n",
    "filtered = my_array[bool_array]\n",
    "print(filtered)"
   ]
  },
  {
   "cell_type": "code",
   "execution_count": 89,
   "metadata": {},
   "outputs": [
    {
     "name": "stdout",
     "output_type": "stream",
     "text": [
      "[ 62 200 478]\n"
     ]
    }
   ],
   "source": [
    "print(my_array[my_array > 0]) # shortcut"
   ]
  },
  {
   "cell_type": "markdown",
   "metadata": {},
   "source": [
    "We can also do this with 2D arrays:"
   ]
  },
  {
   "cell_type": "code",
   "execution_count": 90,
   "metadata": {},
   "outputs": [
    {
     "name": "stdout",
     "output_type": "stream",
     "text": [
      "[ 10 100  20 200  30 300]\n"
     ]
    }
   ],
   "source": [
    "array2d = np.array([[10, 100, 1000], [20, 200, 2000], [30, 300, 3000]])\n",
    "print(array2d[ array2d < 1000 ])"
   ]
  },
  {
   "cell_type": "markdown",
   "metadata": {},
   "source": [
    "# pandas"
   ]
  },
  {
   "cell_type": "markdown",
   "metadata": {},
   "source": [
    "* [__pandas__](https://pandas.pydata.org/pandas-docs/stable/) is a Python library that provides high-performance, easy to use data structures, and data analysis tools.\n",
    "* It is one of the most popular Python modules used for data manipulation and analysis.\n",
    "* It allows us to carry out our whole data analysis workflow in Python without having to switch to R.\n",
    "* It is built on NumPy, so a lot of NumPy methods and concepts are supported.\n",
    "    * Such as vectorization, which greatly improves program's performance.\n",
    "\n",
    "\n",
    "\n",
    "\n",
    "\n",
    "\n",
    "* pandas library provides us two data structures: [__Series__](https://pandas.pydata.org/pandas-docs/stable/reference/api/pandas.Series.html) and [__DataFrames__](https://pandas.pydata.org/pandas-docs/stable/reference/api/pandas.DataFrame.html).\n",
    "\n",
    "\n",
    "\n",
    "* __Series__\n",
    "\n",
    "    * A one-dimensional labeled array that can hold any data type.\n",
    "    \n",
    "    \n",
    "    \n",
    "* __DataFrame__\n",
    "\n",
    "    * A two-dimensional labeled data structure that can have columns of different types.\n",
    "\n",
    "\n",
    "\n",
    "\n",
    "\n",
    "* We import pandas using pd as its alias.\n",
    "\n",
    "```Python\n",
    "import pandas as pd\n",
    "```\n",
    "\n",
    "\n",
    "### pandas.Series\n",
    "\n",
    "* To create a series we use the __pandas.Series( )__ method.\n",
    "\n",
    "```Python\n",
    "pd.Series()  # Empty series object\n",
    "```"
   ]
  },
  {
   "cell_type": "code",
   "execution_count": 91,
   "metadata": {},
   "outputs": [
    {
     "name": "stdout",
     "output_type": "stream",
     "text": [
      "Series([], dtype: float64)\n"
     ]
    }
   ],
   "source": [
    "import pandas as pd\n",
    "\n",
    "empty_series = pd.Series()\n",
    "print(empty_series)"
   ]
  },
  {
   "cell_type": "markdown",
   "metadata": {
    "collapsed": true
   },
   "source": [
    "* We can create pandas series from other Python data structures:\n",
    "    * Lists\n",
    "    * Dictionaries\n",
    "    * NumPy ndarrays\n",
    "    \n",
    "```Python \n",
    "pd.Series(data)\n",
    "```"
   ]
  },
  {
   "cell_type": "code",
   "execution_count": 92,
   "metadata": {},
   "outputs": [
    {
     "name": "stdout",
     "output_type": "stream",
     "text": [
      "0    a\n",
      "1    b\n",
      "2    c\n",
      "3    d\n",
      "dtype: object\n"
     ]
    }
   ],
   "source": [
    "data_series_1 = pd.Series(['a', 'b', 'c', 'd'])\n",
    "print(data_series_1)"
   ]
  },
  {
   "cell_type": "code",
   "execution_count": 93,
   "metadata": {},
   "outputs": [
    {
     "name": "stdout",
     "output_type": "stream",
     "text": [
      "a    1\n",
      "b    2\n",
      "c    3\n",
      "dtype: int64\n"
     ]
    }
   ],
   "source": [
    "dict_series = pd.Series({'a': 1, 'b': 2, 'c': 3})\n",
    "print(dict_series)"
   ]
  },
  {
   "cell_type": "markdown",
   "metadata": {},
   "source": [
    "* We can choose our own indexes by using the optional index argument.\n",
    "\n",
    "```Python\n",
    "pd.Series(data, index)\n",
    "```"
   ]
  },
  {
   "cell_type": "code",
   "execution_count": 94,
   "metadata": {},
   "outputs": [
    {
     "name": "stdout",
     "output_type": "stream",
     "text": [
      "A    a\n",
      "B    b\n",
      "C    c\n",
      "D    d\n",
      "dtype: object\n"
     ]
    }
   ],
   "source": [
    "data = ['a', 'b', 'c', 'd'] \n",
    "data_series_2 = pd.Series(data, index = ['A', 'B', 'C', 'D'])\n",
    "print(data_series_2)"
   ]
  },
  {
   "cell_type": "markdown",
   "metadata": {},
   "source": [
    "### pandas.DataFrame\n",
    "\n",
    "* To create a pandas DataFrame object we use\n",
    "\n",
    "```Python\n",
    "pd.DataFrame()   # Empty DataFrame object\n",
    "```"
   ]
  },
  {
   "cell_type": "code",
   "execution_count": 95,
   "metadata": {},
   "outputs": [
    {
     "name": "stdout",
     "output_type": "stream",
     "text": [
      "Empty DataFrame\n",
      "Columns: []\n",
      "Index: []\n"
     ]
    }
   ],
   "source": [
    "empty_df = pd.DataFrame()\n",
    "print(empty_df)"
   ]
  },
  {
   "cell_type": "markdown",
   "metadata": {},
   "source": [
    "* We can create pandas.DataFrame objects from other data structures:\n",
    "    * Lists\n",
    "    * Arrays\n",
    "    * Dictionaries\n",
    "    * Series\n",
    "    \n",
    "```Python\n",
    "pd.DataFrame(data, index, columns, dtype)\n",
    "```\n",
    "\n",
    "* __data__: data you want to use to create a DataFrame\n",
    "* __index__: row labels (optional)\n",
    "* __columns__: column labels (optional)\n",
    "* __dtype__: data type of each column (optional)"
   ]
  },
  {
   "cell_type": "code",
   "execution_count": 96,
   "metadata": {},
   "outputs": [
    {
     "name": "stdout",
     "output_type": "stream",
     "text": [
      "   Subject  Grade\n",
      "0  Biology   89.0\n",
      "1  Physics   94.0\n",
      "2  English   85.0\n",
      "3  History  100.0\n"
     ]
    }
   ],
   "source": [
    "data = [['Biology', 89], ['Physics', 94], ['English', 85], ['History', 100]]\n",
    "df = pd.DataFrame(data, columns = ['Subject', 'Grade'], dtype = float)\n",
    "print(df)"
   ]
  },
  {
   "cell_type": "code",
   "execution_count": 97,
   "metadata": {},
   "outputs": [
    {
     "data": {
      "text/html": [
       "<div>\n",
       "<style>\n",
       "    .dataframe thead tr:only-child th {\n",
       "        text-align: right;\n",
       "    }\n",
       "\n",
       "    .dataframe thead th {\n",
       "        text-align: left;\n",
       "    }\n",
       "\n",
       "    .dataframe tbody tr th {\n",
       "        vertical-align: top;\n",
       "    }\n",
       "</style>\n",
       "<table border=\"1\" class=\"dataframe\">\n",
       "  <thead>\n",
       "    <tr style=\"text-align: right;\">\n",
       "      <th></th>\n",
       "      <th>Subject</th>\n",
       "      <th>Grade</th>\n",
       "    </tr>\n",
       "  </thead>\n",
       "  <tbody>\n",
       "    <tr>\n",
       "      <th>0</th>\n",
       "      <td>Biology</td>\n",
       "      <td>89.0</td>\n",
       "    </tr>\n",
       "    <tr>\n",
       "      <th>1</th>\n",
       "      <td>Physics</td>\n",
       "      <td>94.0</td>\n",
       "    </tr>\n",
       "    <tr>\n",
       "      <th>2</th>\n",
       "      <td>English</td>\n",
       "      <td>85.0</td>\n",
       "    </tr>\n",
       "    <tr>\n",
       "      <th>3</th>\n",
       "      <td>History</td>\n",
       "      <td>100.0</td>\n",
       "    </tr>\n",
       "  </tbody>\n",
       "</table>\n",
       "</div>"
      ],
      "text/plain": [
       "   Subject  Grade\n",
       "0  Biology   89.0\n",
       "1  Physics   94.0\n",
       "2  English   85.0\n",
       "3  History  100.0"
      ]
     },
     "execution_count": 97,
     "metadata": {},
     "output_type": "execute_result"
    }
   ],
   "source": [
    "df"
   ]
  },
  {
   "cell_type": "markdown",
   "metadata": {},
   "source": [
    "### Opening Files with pandas\n",
    "\n",
    "* We can use [__pandas.read_csv( )__](https://pandas.pydata.org/pandas-docs/stable/reference/api/pandas.read_csv.html) to open files containing data.\n",
    "\n",
    "```Python\n",
    "pd.read_csv(filepath, sep=',', header = 'infer', names = None, index_col = None)\n",
    "```\n",
    "\n",
    "* __filepath__: path to file\n",
    "* __sep__: separator (optional)\n",
    "    * default value is ',' (comma separated values)\n",
    "* __header__: rows to use as as column names (optional)\n",
    "    * by default the first row will be assigned as header\n",
    "* __names__: list of column names to use (optional)\n",
    "* __index_col__: column to use as row labels (optional)\n"
   ]
  },
  {
   "cell_type": "code",
   "execution_count": 98,
   "metadata": {},
   "outputs": [
    {
     "data": {
      "text/html": [
       "<div>\n",
       "<style>\n",
       "    .dataframe thead tr:only-child th {\n",
       "        text-align: right;\n",
       "    }\n",
       "\n",
       "    .dataframe thead th {\n",
       "        text-align: left;\n",
       "    }\n",
       "\n",
       "    .dataframe tbody tr th {\n",
       "        vertical-align: top;\n",
       "    }\n",
       "</style>\n",
       "<table border=\"1\" class=\"dataframe\">\n",
       "  <thead>\n",
       "    <tr style=\"text-align: right;\">\n",
       "      <th></th>\n",
       "      <th>sepal.length</th>\n",
       "      <th>sepal.width</th>\n",
       "      <th>petal.length</th>\n",
       "      <th>petal.width</th>\n",
       "      <th>variety</th>\n",
       "    </tr>\n",
       "  </thead>\n",
       "  <tbody>\n",
       "    <tr>\n",
       "      <th>0</th>\n",
       "      <td>5.1</td>\n",
       "      <td>3.5</td>\n",
       "      <td>1.4</td>\n",
       "      <td>0.2</td>\n",
       "      <td>Setosa</td>\n",
       "    </tr>\n",
       "    <tr>\n",
       "      <th>1</th>\n",
       "      <td>4.9</td>\n",
       "      <td>3.0</td>\n",
       "      <td>1.4</td>\n",
       "      <td>0.2</td>\n",
       "      <td>Setosa</td>\n",
       "    </tr>\n",
       "    <tr>\n",
       "      <th>2</th>\n",
       "      <td>4.7</td>\n",
       "      <td>3.2</td>\n",
       "      <td>1.3</td>\n",
       "      <td>0.2</td>\n",
       "      <td>Setosa</td>\n",
       "    </tr>\n",
       "    <tr>\n",
       "      <th>3</th>\n",
       "      <td>4.6</td>\n",
       "      <td>3.1</td>\n",
       "      <td>1.5</td>\n",
       "      <td>0.2</td>\n",
       "      <td>Setosa</td>\n",
       "    </tr>\n",
       "    <tr>\n",
       "      <th>4</th>\n",
       "      <td>5.0</td>\n",
       "      <td>3.6</td>\n",
       "      <td>1.4</td>\n",
       "      <td>0.2</td>\n",
       "      <td>Setosa</td>\n",
       "    </tr>\n",
       "  </tbody>\n",
       "</table>\n",
       "</div>"
      ],
      "text/plain": [
       "   sepal.length  sepal.width  petal.length  petal.width variety\n",
       "0           5.1          3.5           1.4          0.2  Setosa\n",
       "1           4.9          3.0           1.4          0.2  Setosa\n",
       "2           4.7          3.2           1.3          0.2  Setosa\n",
       "3           4.6          3.1           1.5          0.2  Setosa\n",
       "4           5.0          3.6           1.4          0.2  Setosa"
      ]
     },
     "execution_count": 98,
     "metadata": {},
     "output_type": "execute_result"
    }
   ],
   "source": [
    "data = pd.read_csv('iris.csv')\n",
    "data.head()                     # Displays the first 5 lines of data"
   ]
  },
  {
   "cell_type": "markdown",
   "metadata": {},
   "source": [
    "## Exploring pandas DataFrames\n",
    "\n",
    "### DataFrame.head( )\n",
    "\n",
    "* To view the first few rows of the DataFrame, we can use the [__DataFrame.head( )__](https://pandas.pydata.org/pandas-docs/stable/reference/api/pandas.DataFrame.head.html) method.\n",
    "* By default it will return the first 5 rows.\n"
   ]
  },
  {
   "cell_type": "code",
   "execution_count": 99,
   "metadata": {},
   "outputs": [
    {
     "data": {
      "text/html": [
       "<div>\n",
       "<style>\n",
       "    .dataframe thead tr:only-child th {\n",
       "        text-align: right;\n",
       "    }\n",
       "\n",
       "    .dataframe thead th {\n",
       "        text-align: left;\n",
       "    }\n",
       "\n",
       "    .dataframe tbody tr th {\n",
       "        vertical-align: top;\n",
       "    }\n",
       "</style>\n",
       "<table border=\"1\" class=\"dataframe\">\n",
       "  <thead>\n",
       "    <tr style=\"text-align: right;\">\n",
       "      <th></th>\n",
       "      <th>sepal.length</th>\n",
       "      <th>sepal.width</th>\n",
       "      <th>petal.length</th>\n",
       "      <th>petal.width</th>\n",
       "      <th>variety</th>\n",
       "    </tr>\n",
       "  </thead>\n",
       "  <tbody>\n",
       "    <tr>\n",
       "      <th>0</th>\n",
       "      <td>5.1</td>\n",
       "      <td>3.5</td>\n",
       "      <td>1.4</td>\n",
       "      <td>0.2</td>\n",
       "      <td>Setosa</td>\n",
       "    </tr>\n",
       "    <tr>\n",
       "      <th>1</th>\n",
       "      <td>4.9</td>\n",
       "      <td>3.0</td>\n",
       "      <td>1.4</td>\n",
       "      <td>0.2</td>\n",
       "      <td>Setosa</td>\n",
       "    </tr>\n",
       "  </tbody>\n",
       "</table>\n",
       "</div>"
      ],
      "text/plain": [
       "   sepal.length  sepal.width  petal.length  petal.width variety\n",
       "0           5.1          3.5           1.4          0.2  Setosa\n",
       "1           4.9          3.0           1.4          0.2  Setosa"
      ]
     },
     "execution_count": 99,
     "metadata": {},
     "output_type": "execute_result"
    }
   ],
   "source": [
    "data.head(2)   # Display first 2 rows"
   ]
  },
  {
   "cell_type": "markdown",
   "metadata": {},
   "source": [
    "### DataFrame.tail( )\n",
    "\n",
    "* [__DataFrame.tail( )__](https://pandas.pydata.org/pandas-docs/stable/reference/api/pandas.DataFrame.tail.html) method will display the last rows of the dataset.\n",
    "* Default value is 5."
   ]
  },
  {
   "cell_type": "code",
   "execution_count": 100,
   "metadata": {},
   "outputs": [
    {
     "data": {
      "text/html": [
       "<div>\n",
       "<style>\n",
       "    .dataframe thead tr:only-child th {\n",
       "        text-align: right;\n",
       "    }\n",
       "\n",
       "    .dataframe thead th {\n",
       "        text-align: left;\n",
       "    }\n",
       "\n",
       "    .dataframe tbody tr th {\n",
       "        vertical-align: top;\n",
       "    }\n",
       "</style>\n",
       "<table border=\"1\" class=\"dataframe\">\n",
       "  <thead>\n",
       "    <tr style=\"text-align: right;\">\n",
       "      <th></th>\n",
       "      <th>sepal.length</th>\n",
       "      <th>sepal.width</th>\n",
       "      <th>petal.length</th>\n",
       "      <th>petal.width</th>\n",
       "      <th>variety</th>\n",
       "    </tr>\n",
       "  </thead>\n",
       "  <tbody>\n",
       "    <tr>\n",
       "      <th>147</th>\n",
       "      <td>6.5</td>\n",
       "      <td>3.0</td>\n",
       "      <td>5.2</td>\n",
       "      <td>2.0</td>\n",
       "      <td>Virginica</td>\n",
       "    </tr>\n",
       "    <tr>\n",
       "      <th>148</th>\n",
       "      <td>6.2</td>\n",
       "      <td>3.4</td>\n",
       "      <td>5.4</td>\n",
       "      <td>2.3</td>\n",
       "      <td>Virginica</td>\n",
       "    </tr>\n",
       "    <tr>\n",
       "      <th>149</th>\n",
       "      <td>5.9</td>\n",
       "      <td>3.0</td>\n",
       "      <td>5.1</td>\n",
       "      <td>1.8</td>\n",
       "      <td>Virginica</td>\n",
       "    </tr>\n",
       "  </tbody>\n",
       "</table>\n",
       "</div>"
      ],
      "text/plain": [
       "     sepal.length  sepal.width  petal.length  petal.width    variety\n",
       "147           6.5          3.0           5.2          2.0  Virginica\n",
       "148           6.2          3.4           5.4          2.3  Virginica\n",
       "149           5.9          3.0           5.1          1.8  Virginica"
      ]
     },
     "execution_count": 100,
     "metadata": {},
     "output_type": "execute_result"
    }
   ],
   "source": [
    "data.tail(3)   # Last 3 rows"
   ]
  },
  {
   "cell_type": "markdown",
   "metadata": {},
   "source": [
    "### DataFrame.shape\n",
    "\n",
    "* [__DataFrame.shape__](https://pandas.pydata.org/pandas-docs/stable/reference/api/pandas.DataFrame.shape.html) displays the numbers of rows and columns."
   ]
  },
  {
   "cell_type": "code",
   "execution_count": 101,
   "metadata": {},
   "outputs": [
    {
     "name": "stdout",
     "output_type": "stream",
     "text": [
      "(150, 5)\n"
     ]
    }
   ],
   "source": [
    "print(data.shape)  # (number of rows, number of columns)"
   ]
  },
  {
   "cell_type": "markdown",
   "metadata": {},
   "source": [
    "### DataFrame.index and DataFrame.columns\n",
    "\n",
    "* [__DataFrame.index__](https://pandas.pydata.org/pandas-docs/stable/reference/api/pandas.DataFrame.index.html) displays the index of the DataFrame\n",
    "* [__DataFrame.columns__](https://pandas.pydata.org/pandas-docs/stable/reference/api/pandas.DataFrame.columns.html) displays the column labels of the DataFrame"
   ]
  },
  {
   "cell_type": "code",
   "execution_count": 102,
   "metadata": {},
   "outputs": [
    {
     "name": "stdout",
     "output_type": "stream",
     "text": [
      "RangeIndex(start=0, stop=150, step=1)\n",
      "\n",
      "Index(['sepal.length', 'sepal.width', 'petal.length', 'petal.width',\n",
      "       'variety'],\n",
      "      dtype='object')\n"
     ]
    }
   ],
   "source": [
    "print(data.index)\n",
    "print()\n",
    "print(data.columns)"
   ]
  },
  {
   "cell_type": "markdown",
   "metadata": {},
   "source": [
    "### DataFrame.info( )\n",
    "\n",
    "* [__DataFrame.info( )__](https://pandas.pydata.org/pandas-docs/stable/reference/api/pandas.DataFrame.info.html) prints a concise summary of a DataFrame"
   ]
  },
  {
   "cell_type": "code",
   "execution_count": 103,
   "metadata": {},
   "outputs": [
    {
     "name": "stdout",
     "output_type": "stream",
     "text": [
      "<class 'pandas.core.frame.DataFrame'>\n",
      "RangeIndex: 150 entries, 0 to 149\n",
      "Data columns (total 5 columns):\n",
      "sepal.length    150 non-null float64\n",
      "sepal.width     150 non-null float64\n",
      "petal.length    150 non-null float64\n",
      "petal.width     150 non-null float64\n",
      "variety         150 non-null object\n",
      "dtypes: float64(4), object(1)\n",
      "memory usage: 5.9+ KB\n",
      "None\n"
     ]
    }
   ],
   "source": [
    "print(data.info())"
   ]
  },
  {
   "cell_type": "markdown",
   "metadata": {},
   "source": [
    "## DataFrame Indexing\n",
    "\n",
    "### Using Column Labels\n",
    "\n",
    "* Because axes of DataFrames are labeled, we can select columns using their labels.\n",
    "\n",
    "Explicit syntax\n",
    "```Python\n",
    "DataFrame.loc[:, 'column_label']\n",
    "```\n",
    "\n",
    "Shorthand syntax\n",
    "```Python\n",
    "DataFrame['column_label']\n",
    "```"
   ]
  },
  {
   "cell_type": "code",
   "execution_count": 104,
   "metadata": {},
   "outputs": [
    {
     "name": "stdout",
     "output_type": "stream",
     "text": [
      "0    1.4\n",
      "1    1.4\n",
      "2    1.3\n",
      "3    1.5\n",
      "4    1.4\n",
      "5    1.7\n",
      "6    1.4\n",
      "7    1.5\n",
      "8    1.4\n",
      "9    1.5\n",
      "Name: petal.length, dtype: float64\n"
     ]
    }
   ],
   "source": [
    "print(data['petal.length'].head(10))       # Returns pandas Series"
   ]
  },
  {
   "cell_type": "markdown",
   "metadata": {},
   "source": [
    "### Selecting Multiple Columns by Label\n",
    "\n",
    "* Same as selecting a single column, except pass in a list of column labels.\n",
    "\n",
    "Explicit syntax\n",
    "```Python\n",
    "DataFrame.loc[:, ['col_1', 'col_2']]\n",
    "```\n",
    "Shorthand syntax\n",
    "```Python\n",
    "DataFrame[ ['col_1', 'col_2'] ]\n",
    "```"
   ]
  },
  {
   "cell_type": "code",
   "execution_count": 105,
   "metadata": {},
   "outputs": [
    {
     "name": "stdout",
     "output_type": "stream",
     "text": [
      "   sepal.width variety\n",
      "0          3.5  Setosa\n",
      "1          3.0  Setosa\n",
      "2          3.2  Setosa\n",
      "3          3.1  Setosa\n",
      "4          3.6  Setosa\n",
      "5          3.9  Setosa\n",
      "6          3.4  Setosa\n",
      "7          3.4  Setosa\n",
      "8          2.9  Setosa\n",
      "9          3.1  Setosa\n"
     ]
    }
   ],
   "source": [
    "print(data[['sepal.width', 'variety']].head(10))"
   ]
  },
  {
   "cell_type": "markdown",
   "metadata": {},
   "source": [
    "* To select a column slice with labels, we need to use explicit syntax.\n",
    "\n",
    "```Python\n",
    "DataFrame.loc[:, 'col_1':'col_5']\n",
    "```\n"
   ]
  },
  {
   "cell_type": "code",
   "execution_count": 106,
   "metadata": {},
   "outputs": [
    {
     "name": "stdout",
     "output_type": "stream",
     "text": [
      "   petal.length  petal.width variety\n",
      "0           1.4          0.2  Setosa\n",
      "1           1.4          0.2  Setosa\n",
      "2           1.3          0.2  Setosa\n",
      "3           1.5          0.2  Setosa\n",
      "4           1.4          0.2  Setosa\n"
     ]
    }
   ],
   "source": [
    "print(data.loc[:, 'petal.length': 'variety'].head())"
   ]
  },
  {
   "cell_type": "markdown",
   "metadata": {},
   "source": [
    "### Selecting Rows by Label\n"
   ]
  },
  {
   "cell_type": "code",
   "execution_count": 107,
   "metadata": {},
   "outputs": [
    {
     "data": {
      "text/html": [
       "<div>\n",
       "<style>\n",
       "    .dataframe thead tr:only-child th {\n",
       "        text-align: right;\n",
       "    }\n",
       "\n",
       "    .dataframe thead th {\n",
       "        text-align: left;\n",
       "    }\n",
       "\n",
       "    .dataframe tbody tr th {\n",
       "        vertical-align: top;\n",
       "    }\n",
       "</style>\n",
       "<table border=\"1\" class=\"dataframe\">\n",
       "  <thead>\n",
       "    <tr style=\"text-align: right;\">\n",
       "      <th></th>\n",
       "      <th>sepal.length</th>\n",
       "      <th>sepal.width</th>\n",
       "      <th>petal.length</th>\n",
       "      <th>petal.width</th>\n",
       "      <th>variety</th>\n",
       "    </tr>\n",
       "  </thead>\n",
       "  <tbody>\n",
       "    <tr>\n",
       "      <th>a</th>\n",
       "      <td>5.1</td>\n",
       "      <td>3.5</td>\n",
       "      <td>1.4</td>\n",
       "      <td>0.2</td>\n",
       "      <td>Setosa</td>\n",
       "    </tr>\n",
       "    <tr>\n",
       "      <th>b</th>\n",
       "      <td>4.9</td>\n",
       "      <td>3.0</td>\n",
       "      <td>1.4</td>\n",
       "      <td>0.2</td>\n",
       "      <td>Setosa</td>\n",
       "    </tr>\n",
       "    <tr>\n",
       "      <th>c</th>\n",
       "      <td>4.7</td>\n",
       "      <td>3.2</td>\n",
       "      <td>1.3</td>\n",
       "      <td>0.2</td>\n",
       "      <td>Setosa</td>\n",
       "    </tr>\n",
       "    <tr>\n",
       "      <th>d</th>\n",
       "      <td>4.6</td>\n",
       "      <td>3.1</td>\n",
       "      <td>1.5</td>\n",
       "      <td>0.2</td>\n",
       "      <td>Setosa</td>\n",
       "    </tr>\n",
       "    <tr>\n",
       "      <th>e</th>\n",
       "      <td>5.0</td>\n",
       "      <td>3.6</td>\n",
       "      <td>1.4</td>\n",
       "      <td>0.2</td>\n",
       "      <td>Setosa</td>\n",
       "    </tr>\n",
       "  </tbody>\n",
       "</table>\n",
       "</div>"
      ],
      "text/plain": [
       "   sepal.length  sepal.width  petal.length  petal.width variety\n",
       "a           5.1          3.5           1.4          0.2  Setosa\n",
       "b           4.9          3.0           1.4          0.2  Setosa\n",
       "c           4.7          3.2           1.3          0.2  Setosa\n",
       "d           4.6          3.1           1.5          0.2  Setosa\n",
       "e           5.0          3.6           1.4          0.2  Setosa"
      ]
     },
     "execution_count": 107,
     "metadata": {},
     "output_type": "execute_result"
    }
   ],
   "source": [
    "# Because the original DataFrame used integers as row labels, I copied the first 5 rows and relabeled them\n",
    "# for illustration\n",
    "index_labels = ['a', 'b', 'c', 'd', 'e']\n",
    "data2 = data.head().copy()\n",
    "data2.index = index_labels\n",
    "data2"
   ]
  },
  {
   "cell_type": "markdown",
   "metadata": {},
   "source": [
    "* Selecting a single row using its label\n",
    "\n",
    "```Python\n",
    "DataFrame.loc[row_label]\n",
    "```\n"
   ]
  },
  {
   "cell_type": "code",
   "execution_count": 108,
   "metadata": {},
   "outputs": [
    {
     "name": "stdout",
     "output_type": "stream",
     "text": [
      "sepal.length       4.9\n",
      "sepal.width          3\n",
      "petal.length       1.4\n",
      "petal.width        0.2\n",
      "variety         Setosa\n",
      "Name: b, dtype: object\n"
     ]
    }
   ],
   "source": [
    "print(data2.loc['b'])"
   ]
  },
  {
   "cell_type": "markdown",
   "metadata": {},
   "source": [
    "* Selecting several rows\n",
    "    * Pass in a list of row labels\n",
    "\n",
    "```Python\n",
    "DataFrame.loc[ [row_1, row_2] ]\n",
    "```\n"
   ]
  },
  {
   "cell_type": "code",
   "execution_count": 109,
   "metadata": {},
   "outputs": [
    {
     "name": "stdout",
     "output_type": "stream",
     "text": [
      "   sepal.length  sepal.width  petal.length  petal.width variety\n",
      "a           5.1          3.5           1.4          0.2  Setosa\n",
      "c           4.7          3.2           1.3          0.2  Setosa\n",
      "e           5.0          3.6           1.4          0.2  Setosa\n"
     ]
    }
   ],
   "source": [
    "print(data2.loc[['a', 'c', 'e']])"
   ]
  },
  {
   "cell_type": "markdown",
   "metadata": {},
   "source": [
    "* Selecting a slice of rows\n",
    "\n",
    "```Python\n",
    "DataFrame.loc[row_1:row_2]\n",
    "```\n",
    "\n",
    "* We can use shorthand syntax as well\n",
    "\n",
    "```Python\n",
    "DataFrame[row1:row2]\n",
    "```"
   ]
  },
  {
   "cell_type": "code",
   "execution_count": 110,
   "metadata": {},
   "outputs": [
    {
     "name": "stdout",
     "output_type": "stream",
     "text": [
      "   sepal.length  sepal.width  petal.length  petal.width variety\n",
      "b           4.9          3.0           1.4          0.2  Setosa\n",
      "c           4.7          3.2           1.3          0.2  Setosa\n",
      "d           4.6          3.1           1.5          0.2  Setosa\n"
     ]
    }
   ],
   "source": [
    "print(data2['b':'d'])"
   ]
  },
  {
   "cell_type": "markdown",
   "metadata": {},
   "source": [
    "* Selecting specific items:\n",
    "\n",
    "```Python\n",
    "DataFrame.loc[row_label, column_label]\n",
    "```"
   ]
  },
  {
   "cell_type": "code",
   "execution_count": 111,
   "metadata": {},
   "outputs": [
    {
     "name": "stdout",
     "output_type": "stream",
     "text": [
      "Setosa\n"
     ]
    }
   ],
   "source": [
    "print(data2.loc['b', 'variety'])"
   ]
  },
  {
   "cell_type": "markdown",
   "metadata": {},
   "source": [
    "### Selection by Integer Position\n",
    "\n",
    "* We can also select columns and rows of a DataFrame using integer-location based indexing.\n",
    "\n",
    "\n",
    "\n",
    "* Selecting a single row:\n",
    "\n",
    "```Python\n",
    "DataFrame.iloc[row_index]\n",
    "```"
   ]
  },
  {
   "cell_type": "code",
   "execution_count": 112,
   "metadata": {},
   "outputs": [
    {
     "name": "stdout",
     "output_type": "stream",
     "text": [
      "   sepal.length  sepal.width  petal.length  petal.width variety\n",
      "0           5.1          3.5           1.4          0.2  Setosa\n",
      "1           4.9          3.0           1.4          0.2  Setosa\n",
      "2           4.7          3.2           1.3          0.2  Setosa\n",
      "3           4.6          3.1           1.5          0.2  Setosa\n",
      "4           5.0          3.6           1.4          0.2  Setosa\n",
      "\n",
      "sepal.length       4.9\n",
      "sepal.width          3\n",
      "petal.length       1.4\n",
      "petal.width        0.2\n",
      "variety         Setosa\n",
      "Name: 1, dtype: object\n"
     ]
    }
   ],
   "source": [
    "print(data.head())\n",
    "print()\n",
    "print(data.iloc[1])"
   ]
  },
  {
   "cell_type": "markdown",
   "metadata": {},
   "source": [
    "* Selecting multiple rows using slicing:\n",
    "\n",
    "```Python\n",
    "DataFrame.iloc[row_1:row_n]\n",
    "```\n"
   ]
  },
  {
   "cell_type": "code",
   "execution_count": 113,
   "metadata": {},
   "outputs": [
    {
     "name": "stdout",
     "output_type": "stream",
     "text": [
      "   sepal.length  sepal.width  petal.length  petal.width variety\n",
      "0           5.1          3.5           1.4          0.2  Setosa\n",
      "1           4.9          3.0           1.4          0.2  Setosa\n",
      "2           4.7          3.2           1.3          0.2  Setosa\n",
      "3           4.6          3.1           1.5          0.2  Setosa\n"
     ]
    }
   ],
   "source": [
    "print(data.iloc[0:4])"
   ]
  },
  {
   "cell_type": "markdown",
   "metadata": {},
   "source": [
    "* Selecting a single column using integer indexing:\n",
    "\n",
    "```Python\n",
    "DataFrame.iloc[:, column]\n",
    "```"
   ]
  },
  {
   "cell_type": "code",
   "execution_count": 114,
   "metadata": {},
   "outputs": [
    {
     "data": {
      "text/plain": [
       "0    1.4\n",
       "1    1.4\n",
       "2    1.3\n",
       "3    1.5\n",
       "4    1.4\n",
       "Name: petal.length, dtype: float64"
      ]
     },
     "execution_count": 114,
     "metadata": {},
     "output_type": "execute_result"
    }
   ],
   "source": [
    "data.iloc[:, 2].head()"
   ]
  },
  {
   "cell_type": "markdown",
   "metadata": {},
   "source": [
    "* Selecting a single value using integer based indexing:\n",
    "\n",
    "```Python\n",
    "DataFrame.iloc[row_index, col_index]\n",
    "```"
   ]
  },
  {
   "cell_type": "code",
   "execution_count": 115,
   "metadata": {},
   "outputs": [
    {
     "name": "stdout",
     "output_type": "stream",
     "text": [
      "0.2\n"
     ]
    }
   ],
   "source": [
    "print(data.iloc[1,3])        # Row index = 1, Column index = 3"
   ]
  },
  {
   "cell_type": "markdown",
   "metadata": {},
   "source": [
    "Things to remember: \n",
    "\n",
    "* To select values by labels, use __.l__oc[ ]\n",
    "* To select values by integers, use __.i__loc[ ] "
   ]
  },
  {
   "cell_type": "markdown",
   "metadata": {},
   "source": [
    "### Series Methods for Data Exploration\n",
    "\n",
    "* Separate rows/columns of a DataFrame are actually Series objects.\n",
    "    * Which have their own unique methods.\n",
    "\n",
    "### Series.value_counts( )\n",
    "\n",
    "* [__Series.value_counts( )__](https://pandas.pydata.org/pandas-docs/stable/reference/api/pandas.Series.value_counts.html) returns a series containing counts of all values."
   ]
  },
  {
   "cell_type": "code",
   "execution_count": 116,
   "metadata": {},
   "outputs": [
    {
     "name": "stdout",
     "output_type": "stream",
     "text": [
      "Virginica     50\n",
      "Versicolor    50\n",
      "Setosa        50\n",
      "Name: variety, dtype: int64\n"
     ]
    }
   ],
   "source": [
    "print(data['variety'].value_counts())"
   ]
  },
  {
   "cell_type": "markdown",
   "metadata": {},
   "source": [
    "### Series.max( ) and Series.min( )\n",
    "\n",
    "* [__Series.min( )__](https://pandas.pydata.org/pandas-docs/stable/reference/api/pandas.Series.min.html) returns the minimum value.\n",
    "* [__Series.max( )__](https://pandas.pydata.org/pandas-docs/stable/reference/api/pandas.Series.max.html) returns the maximum value."
   ]
  },
  {
   "cell_type": "code",
   "execution_count": 117,
   "metadata": {},
   "outputs": [
    {
     "name": "stdout",
     "output_type": "stream",
     "text": [
      "7.9\n",
      "4.3\n"
     ]
    }
   ],
   "source": [
    "print(data['sepal.length'].max())\n",
    "print(data['sepal.length'].min())"
   ]
  },
  {
   "cell_type": "markdown",
   "metadata": {},
   "source": [
    "### Series.mean( ) and Series.median( )\n",
    "\n",
    "* [__Series.mean( )__](https://pandas.pydata.org/pandas-docs/stable/reference/api/pandas.Series.mean.html) returns the mean value of the series.\n",
    "* [__Series.median( )__](https://pandas.pydata.org/pandas-docs/stable/reference/api/pandas.Series.max.html) returns the median."
   ]
  },
  {
   "cell_type": "code",
   "execution_count": 118,
   "metadata": {},
   "outputs": [
    {
     "name": "stdout",
     "output_type": "stream",
     "text": [
      "3.7580000000000027\n",
      "1.3\n"
     ]
    }
   ],
   "source": [
    "print(data['petal.length'].mean())\n",
    "print(data['petal.width'].median())"
   ]
  },
  {
   "cell_type": "markdown",
   "metadata": {},
   "source": [
    "### Series.describe( )\n",
    "\n",
    "* [__Series.describe( )__](https://pandas.pydata.org/pandas-docs/stable/reference/api/pandas.Series.describe.html) generates descriptive statistics."
   ]
  },
  {
   "cell_type": "code",
   "execution_count": 119,
   "metadata": {},
   "outputs": [
    {
     "name": "stdout",
     "output_type": "stream",
     "text": [
      "count    150.000000\n",
      "mean       3.758000\n",
      "std        1.765298\n",
      "min        1.000000\n",
      "25%        1.600000\n",
      "50%        4.350000\n",
      "75%        5.100000\n",
      "max        6.900000\n",
      "Name: petal.length, dtype: float64\n"
     ]
    }
   ],
   "source": [
    "print(data['petal.length'].describe())"
   ]
  },
  {
   "cell_type": "markdown",
   "metadata": {},
   "source": [
    "### DataFrame Data Exploration\n",
    "\n",
    "* Many of the aforementioned methods also work on DataFrames.\n",
    "* We need to specify which axis we want to use:\n",
    "    * Row/Index: axis = 0\n",
    "    * Column: axis = 1\n",
    "    \n",
    "    \n",
    "![title](https://i.stack.imgur.com/dcoE3.jpg)"
   ]
  },
  {
   "cell_type": "code",
   "execution_count": 120,
   "metadata": {},
   "outputs": [
    {
     "name": "stdout",
     "output_type": "stream",
     "text": [
      "sepal.length    5.843333\n",
      "sepal.width     3.057333\n",
      "dtype: float64\n"
     ]
    }
   ],
   "source": [
    "print(data[['sepal.length', 'sepal.width']].mean(axis = 0)) # calculate mean values of columns"
   ]
  },
  {
   "cell_type": "markdown",
   "metadata": {},
   "source": [
    "### Applying Functions to DataFrames\n",
    "\n",
    "### DataFrame.apply( )\n",
    "\n",
    "* The [__DataFrame.apply( )__](https://pandas.pydata.org/pandas-docs/stable/reference/api/pandas.DataFrame.apply.html) method applies a function along an axis of the DataFrame\n",
    "\n",
    "```Python\n",
    "DataFrame.apply(function, axis = 0)\n",
    "```\n",
    "\n",
    "* __function__: function to apply to each row or column\n",
    "* __axis__: axis along which the function is applied\n",
    "    * 0: apply function to each column (along rows)\n",
    "    * 1: apply function to each row (along columns)"
   ]
  },
  {
   "cell_type": "code",
   "execution_count": 121,
   "metadata": {},
   "outputs": [
    {
     "data": {
      "text/plain": [
       "sepal.width    458.6\n",
       "petal.width    179.9\n",
       "dtype: float64"
      ]
     },
     "execution_count": 121,
     "metadata": {},
     "output_type": "execute_result"
    }
   ],
   "source": [
    "# Apply sum function to specified columns\n",
    "data[['sepal.width', 'petal.width']].apply(sum, axis = 0)   # Adds values along rows"
   ]
  },
  {
   "cell_type": "code",
   "execution_count": 122,
   "metadata": {},
   "outputs": [
    {
     "data": {
      "text/plain": [
       "0    10.2\n",
       "1     9.5\n",
       "2     9.4\n",
       "3     9.4\n",
       "4    10.2\n",
       "dtype: float64"
      ]
     },
     "execution_count": 122,
     "metadata": {},
     "output_type": "execute_result"
    }
   ],
   "source": [
    "data.loc[:,'sepal.length':'petal.width'].apply(sum, axis = 1).head()    # Adds values along each column"
   ]
  },
  {
   "cell_type": "code",
   "execution_count": 123,
   "metadata": {},
   "outputs": [
    {
     "data": {
      "text/html": [
       "<div>\n",
       "<style>\n",
       "    .dataframe thead tr:only-child th {\n",
       "        text-align: right;\n",
       "    }\n",
       "\n",
       "    .dataframe thead th {\n",
       "        text-align: left;\n",
       "    }\n",
       "\n",
       "    .dataframe tbody tr th {\n",
       "        vertical-align: top;\n",
       "    }\n",
       "</style>\n",
       "<table border=\"1\" class=\"dataframe\">\n",
       "  <thead>\n",
       "    <tr style=\"text-align: right;\">\n",
       "      <th></th>\n",
       "      <th>sepal.width</th>\n",
       "      <th>petal.width</th>\n",
       "    </tr>\n",
       "  </thead>\n",
       "  <tbody>\n",
       "    <tr>\n",
       "      <th>0</th>\n",
       "      <td>1.75</td>\n",
       "      <td>0.1</td>\n",
       "    </tr>\n",
       "    <tr>\n",
       "      <th>1</th>\n",
       "      <td>1.50</td>\n",
       "      <td>0.1</td>\n",
       "    </tr>\n",
       "    <tr>\n",
       "      <th>2</th>\n",
       "      <td>1.60</td>\n",
       "      <td>0.1</td>\n",
       "    </tr>\n",
       "    <tr>\n",
       "      <th>3</th>\n",
       "      <td>1.55</td>\n",
       "      <td>0.1</td>\n",
       "    </tr>\n",
       "    <tr>\n",
       "      <th>4</th>\n",
       "      <td>1.80</td>\n",
       "      <td>0.1</td>\n",
       "    </tr>\n",
       "  </tbody>\n",
       "</table>\n",
       "</div>"
      ],
      "text/plain": [
       "   sepal.width  petal.width\n",
       "0         1.75          0.1\n",
       "1         1.50          0.1\n",
       "2         1.60          0.1\n",
       "3         1.55          0.1\n",
       "4         1.80          0.1"
      ]
     },
     "execution_count": 123,
     "metadata": {},
     "output_type": "execute_result"
    }
   ],
   "source": [
    "# Using lambda (anonymous) function\n",
    "data[['sepal.width', 'petal.width']].apply(lambda x: x / 2, axis = 0 ).head() # Double the values"
   ]
  },
  {
   "cell_type": "markdown",
   "metadata": {},
   "source": [
    "# Data Visualization and Matplotlib\n",
    "\n",
    "* [__Matplotlib__](https://matplotlib.org/3.1.0/contents.html) is a Python plotting library which produces publication quality figures.\n",
    "* It can generate scatter plots, histograms, box plots, bar charts, etc.\n",
    "\n",
    "* To import the plotting module we use:\n",
    "\n",
    "```Python\n",
    "import matplotlib.pyplot as plt \n",
    "```\n",
    "\n",
    "* To generate a simple line chart, we can use the [__plt.plot( )__](https://matplotlib.org/3.1.0/api/_as_gen/matplotlib.pyplot.plot.html) function:\n",
    "\n",
    "```Python\n",
    "plt.plot(x, y)\n",
    "```\n",
    "\n",
    "* To display the plot we use [__plt.show( )__](https://matplotlib.org/3.1.0/api/_as_gen/matplotlib.pyplot.show.html):\n",
    "\n",
    "```Python\n",
    "plt.show()\n",
    "```"
   ]
  },
  {
   "cell_type": "code",
   "execution_count": 124,
   "metadata": {},
   "outputs": [
    {
     "data": {
      "image/png": "[encoded data removed]",
      "text/plain": [
       "<matplotlib.figure.Figure at 0x122c2e4e0>"
      ]
     },
     "metadata": {},
     "output_type": "display_data"
    }
   ],
   "source": [
    "#Embed figures within the notebook\n",
    "%matplotlib inline \n",
    "import matplotlib.pyplot as plt \n",
    "\n",
    "x = [1,2,3,4,5,6]\n",
    "y = [1,4,9,16,25,36]\n",
    "plt.plot(x, y)\n",
    "plt.show()"
   ]
  },
  {
   "cell_type": "markdown",
   "metadata": {},
   "source": [
    "* We can customize our plot by adding a title and labels for x and y axes.\n",
    "    * [__plt.title( )__](https://matplotlib.org/3.1.0/api/_as_gen/matplotlib.pyplot.title.html)\n",
    "    * [__plt.xlabel( )__](https://matplotlib.org/3.1.0/api/_as_gen/matplotlib.pyplot.xlabel.html)\n",
    "    * [__plt.ylabel( )__](https://matplotlib.org/3.1.0/api/_as_gen/matplotlib.pyplot.ylabel.html)\n",
    "    \n",
    "\n",
    "\n",
    "```Python\n",
    "plt.title(title_string)        # Plot title\n",
    "plt.xlabel(x_label_string)     # x axis label\n",
    "plt.ylabel(y_label_string)     # y axis label\n",
    "```"
   ]
  },
  {
   "cell_type": "code",
   "execution_count": 125,
   "metadata": {},
   "outputs": [
    {
     "data": {
      "image/png": "[encoded data removed]",
      "text/plain": [
       "<matplotlib.figure.Figure at 0x122c37748>"
      ]
     },
     "metadata": {},
     "output_type": "display_data"
    }
   ],
   "source": [
    "x = [1,2,3,4,5,6]\n",
    "y = [1,4,9,16,25,36]\n",
    "plt.plot(x, y)\n",
    "plt.title('Example Line Chart')\n",
    "plt.xlabel('Numbers')\n",
    "plt.ylabel('Squares')\n",
    "plt.show()"
   ]
  },
  {
   "cell_type": "markdown",
   "metadata": {},
   "source": [
    "### Plotting Multiple Graphs\n",
    "\n",
    "* We can also plot more than 1 graph:"
   ]
  },
  {
   "cell_type": "code",
   "execution_count": 126,
   "metadata": {},
   "outputs": [
    {
     "data": {
      "image/png": "[encoded data removed]",
      "text/plain": [
       "<matplotlib.figure.Figure at 0x122477b00>"
      ]
     },
     "metadata": {},
     "output_type": "display_data"
    }
   ],
   "source": [
    "x_1 = [0,1,2,3,4,5,6,7]\n",
    "y_1 = [0,1,4,9,16,25,36,49]\n",
    "y_2 = [0,3,6,9,12,15,18,21]\n",
    "\n",
    "plt.plot(x_1, y_1, c = 'blue', label = 'squared')\n",
    "plt.plot(x_1, y_2, c = 'green', label = 'tripled')\n",
    "\n",
    "plt.title('Example 2')\n",
    "plt.xlabel('x axis')\n",
    "plt.ylabel('y axis')\n",
    "\n",
    "plt.legend() # Add legend\n",
    "\n",
    "plt.show()"
   ]
  },
  {
   "cell_type": "markdown",
   "metadata": {},
   "source": [
    "### Creating Multiple Subplots\n",
    "\n",
    "* We can create multiple subplots using Matplotlib.\n",
    "* To do this, we first need to create a [__figure__](https://matplotlib.org/3.1.0/api/_as_gen/matplotlib.pyplot.figure.html) object that will act as a container for all of our plots.\n",
    "\n",
    "```Python\n",
    "fig = plt.figure()\n",
    "```\n",
    "\n",
    "* Then we can create our subplots by using the [__fig.add_subplot( )__](https://matplotlib.org/3.1.0/api/_as_gen/matplotlib.figure.Figure.html#matplotlib.figure.Figure.add_subplot) method\n",
    "* Example of creating 2 subplot axes on one figure object:\n",
    "\n",
    "```Python\n",
    "ax1 = fig.add_subplot(2, 1, 1)    \n",
    "ax2 = fig.add_subplot(2, 1, 2)\n",
    "```\n",
    "\n",
    "Syntax explanation:\n",
    "```Python\n",
    "ax = fig.add_subplots(number_of_rows, number_of_columns, plot_index)\n",
    "```\n",
    "\n"
   ]
  },
  {
   "cell_type": "code",
   "execution_count": 127,
   "metadata": {},
   "outputs": [
    {
     "data": {
      "image/png": "[encoded data removed]",
      "text/plain": [
       "<matplotlib.figure.Figure at 0x122e93080>"
      ]
     },
     "metadata": {},
     "output_type": "display_data"
    }
   ],
   "source": [
    "fig = plt.figure()\n",
    "ax1 = fig.add_subplot(2, 1, 1)\n",
    "ax2 = fig.add_subplot(2, 1, 2)"
   ]
  },
  {
   "cell_type": "code",
   "execution_count": 128,
   "metadata": {},
   "outputs": [
    {
     "data": {
      "image/png": "[encoded data removed]",
      "text/plain": [
       "<matplotlib.figure.Figure at 0x122ebf438>"
      ]
     },
     "metadata": {},
     "output_type": "display_data"
    }
   ],
   "source": [
    "# 2 rows and 1 column\n",
    "fig = plt.figure(figsize = (10,5))  # Create a figure object\n",
    "ax1 = fig.add_subplot(2, 1, 1)      # Plot 1\n",
    "ax2 = fig.add_subplot(2, 1, 2)      # Plot 2\n",
    "\n",
    "\n",
    "ax1.plot(x_1, y_1, c = 'blue')\n",
    "ax1.title.set_text('Figure 1')\n",
    "\n",
    "ax2.plot(x_1, y_2, c = 'red')\n",
    "ax2.title.set_text('Figure 2')\n",
    "plt.show()"
   ]
  },
  {
   "cell_type": "code",
   "execution_count": 129,
   "metadata": {},
   "outputs": [
    {
     "data": {
      "image/png": "[encoded data removed]",
      "text/plain": [
       "<matplotlib.figure.Figure at 0x1232e6978>"
      ]
     },
     "metadata": {},
     "output_type": "display_data"
    }
   ],
   "source": [
    "# 1 row and 2 columns\n",
    "\n",
    "fig = plt.figure(figsize = (12,5)) # Create a figure object\n",
    "ax1 = fig.add_subplot(1, 2, 1)  # Plot 1\n",
    "ax2 = fig.add_subplot(1, 2, 2)  # Plot 2\n",
    "\n",
    "\n",
    "ax1.plot(x_1, y_1, c = 'blue')\n",
    "ax1.title.set_text('Figure 1')\n",
    "\n",
    "ax2.plot(x_1, y_2, c = 'red')\n",
    "ax2.title.set_text('Figure 2')\n",
    "plt.show()"
   ]
  },
  {
   "cell_type": "markdown",
   "metadata": {},
   "source": [
    "### Boxplots\n",
    "\n",
    "* We can also create boxplots using the [__plt.boxplot( )__](https://matplotlib.org/3.1.0/api/_as_gen/matplotlib.pyplot.boxplot.html) \n",
    "\n",
    "```Python\n",
    "plt.boxplot(data)\n",
    "```"
   ]
  },
  {
   "cell_type": "code",
   "execution_count": 130,
   "metadata": {},
   "outputs": [
    {
     "data": {
      "text/html": [
       "<div>\n",
       "<style>\n",
       "    .dataframe thead tr:only-child th {\n",
       "        text-align: right;\n",
       "    }\n",
       "\n",
       "    .dataframe thead th {\n",
       "        text-align: left;\n",
       "    }\n",
       "\n",
       "    .dataframe tbody tr th {\n",
       "        vertical-align: top;\n",
       "    }\n",
       "</style>\n",
       "<table border=\"1\" class=\"dataframe\">\n",
       "  <thead>\n",
       "    <tr style=\"text-align: right;\">\n",
       "      <th></th>\n",
       "      <th>sepal.length</th>\n",
       "      <th>sepal.width</th>\n",
       "      <th>petal.length</th>\n",
       "      <th>petal.width</th>\n",
       "      <th>variety</th>\n",
       "    </tr>\n",
       "  </thead>\n",
       "  <tbody>\n",
       "    <tr>\n",
       "      <th>0</th>\n",
       "      <td>5.1</td>\n",
       "      <td>3.5</td>\n",
       "      <td>1.4</td>\n",
       "      <td>0.2</td>\n",
       "      <td>Setosa</td>\n",
       "    </tr>\n",
       "    <tr>\n",
       "      <th>1</th>\n",
       "      <td>4.9</td>\n",
       "      <td>3.0</td>\n",
       "      <td>1.4</td>\n",
       "      <td>0.2</td>\n",
       "      <td>Setosa</td>\n",
       "    </tr>\n",
       "    <tr>\n",
       "      <th>2</th>\n",
       "      <td>4.7</td>\n",
       "      <td>3.2</td>\n",
       "      <td>1.3</td>\n",
       "      <td>0.2</td>\n",
       "      <td>Setosa</td>\n",
       "    </tr>\n",
       "    <tr>\n",
       "      <th>3</th>\n",
       "      <td>4.6</td>\n",
       "      <td>3.1</td>\n",
       "      <td>1.5</td>\n",
       "      <td>0.2</td>\n",
       "      <td>Setosa</td>\n",
       "    </tr>\n",
       "    <tr>\n",
       "      <th>4</th>\n",
       "      <td>5.0</td>\n",
       "      <td>3.6</td>\n",
       "      <td>1.4</td>\n",
       "      <td>0.2</td>\n",
       "      <td>Setosa</td>\n",
       "    </tr>\n",
       "  </tbody>\n",
       "</table>\n",
       "</div>"
      ],
      "text/plain": [
       "   sepal.length  sepal.width  petal.length  petal.width variety\n",
       "0           5.1          3.5           1.4          0.2  Setosa\n",
       "1           4.9          3.0           1.4          0.2  Setosa\n",
       "2           4.7          3.2           1.3          0.2  Setosa\n",
       "3           4.6          3.1           1.5          0.2  Setosa\n",
       "4           5.0          3.6           1.4          0.2  Setosa"
      ]
     },
     "execution_count": 130,
     "metadata": {},
     "output_type": "execute_result"
    }
   ],
   "source": [
    "data.head()"
   ]
  },
  {
   "cell_type": "code",
   "execution_count": 131,
   "metadata": {},
   "outputs": [
    {
     "data": {
      "image/png": "[encoded data removed]",
      "text/plain": [
       "<matplotlib.figure.Figure at 0x122ed0e80>"
      ]
     },
     "metadata": {},
     "output_type": "display_data"
    }
   ],
   "source": [
    "plt.boxplot(data['petal.length'])\n",
    "plt.title('Boxplot example')\n",
    "plt.show()"
   ]
  },
  {
   "cell_type": "markdown",
   "metadata": {},
   "source": [
    "### Histograms\n",
    "\n",
    "* Histograms can be generated using [__plt.hist( )__](https://matplotlib.org/3.1.0/api/_as_gen/matplotlib.pyplot.hist.html)\n",
    "\n",
    "```Python\n",
    "plt.hist(data)\n",
    "```"
   ]
  },
  {
   "cell_type": "code",
   "execution_count": 132,
   "metadata": {},
   "outputs": [
    {
     "data": {
      "image/png": "[encoded data removed]",
      "text/plain": [
       "<matplotlib.figure.Figure at 0x123203eb8>"
      ]
     },
     "metadata": {},
     "output_type": "display_data"
    }
   ],
   "source": [
    "fig = plt.figure(figsize = (15, 10))\n",
    "ax1 = fig.add_subplot(2,2,1)\n",
    "ax2 = fig.add_subplot(2,2,2)\n",
    "ax3 = fig.add_subplot(2,2,3)\n",
    "ax4 = fig.add_subplot(2,2,4)\n",
    "\n",
    "ax1.hist(data['sepal.length'])\n",
    "ax1.title.set_text('Sepal Length')\n",
    "\n",
    "ax2.hist(data['petal.length'])\n",
    "ax2.title.set_text('Petal Length')\n",
    "\n",
    "ax3.hist(data['sepal.width'])\n",
    "ax3.title.set_text('Sepal Width')\n",
    "\n",
    "ax4.hist(data['petal.width'])\n",
    "ax4.title.set_text('Petal Width')\n",
    "plt.show()"
   ]
  },
  {
   "cell_type": "markdown",
   "metadata": {},
   "source": [
    "### Styles\n",
    "\n",
    "* Matplotlib has a number of different styles we can use.\n",
    "* You can emulate R's ggplot style with Matplotlib using [__plt.style( )__](https://matplotlib.org/3.1.0/tutorials/introductory/customizing.html)\n",
    "```Python\n",
    "plt.style.use('ggplot')\n",
    "```"
   ]
  },
  {
   "cell_type": "code",
   "execution_count": 133,
   "metadata": {},
   "outputs": [
    {
     "data": {
      "image/png": "[encoded data removed]",
      "text/plain": [
       "<matplotlib.figure.Figure at 0x1238d09b0>"
      ]
     },
     "metadata": {},
     "output_type": "display_data"
    }
   ],
   "source": [
    "plt.style.use('ggplot')\n",
    "fig = plt.figure(figsize = (15, 10))\n",
    "ax1 = fig.add_subplot(2,2,1)\n",
    "ax2 = fig.add_subplot(2,2,2)\n",
    "ax3 = fig.add_subplot(2,2,3)\n",
    "ax4 = fig.add_subplot(2,2,4)\n",
    "\n",
    "ax1.hist(data['sepal.length'])\n",
    "ax1.title.set_text('Sepal Length')\n",
    "\n",
    "ax2.hist(data['petal.length'])\n",
    "ax2.title.set_text('Petal Length')\n",
    "\n",
    "ax3.hist(data['sepal.width'])\n",
    "ax3.title.set_text('Sepal Width')\n",
    "\n",
    "ax4.hist(data['petal.width'])\n",
    "ax4.title.set_text('Petal Width')\n",
    "plt.show()"
   ]
  },
  {
   "cell_type": "markdown",
   "metadata": {},
   "source": [
    "# Other Resources\n",
    "\n",
    "* [Python Documentation](https://docs.python.org/3/)\n",
    "* [NumPy Documentation](https://docs.scipy.org/doc/)\n",
    "* [pandas Documentation](https://pandas.pydata.org/pandas-docs/stable/)\n",
    "* [Matplotlib Documentation](https://matplotlib.org/3.1.0/contents.html)\n",
    "* [Jupyter Notebook](https://jupyter-notebook.readthedocs.io/en/stable/)\n",
    "* [Anaconda Documentation](https://docs.anaconda.com/)\n",
    "* [pandas Cheat Sheet](https://github.com/pandas-dev/pandas/blob/master/doc/cheatsheet/Pandas_Cheat_Sheet.pdf)\n",
    "\n",
    "\n",
    "\n",
    "* [Seaborn](https://seaborn.pydata.org/) \n",
    "    * Data visualization library based on Matplotlib\n",
    "    * More plotting options\n",
    "    * Better looking plots\n",
    "    \n",
    "    \n",
    "* [Biopython](https://biopython.org/wiki/Documentation)\n",
    "    * Python library for computational biology\n",
    "    \n",
    "    \n",
    "    \n",
    "* [scikit-learn](https://scikit-learn.org/stable/documentation.html)\n",
    "    * Machine learning library for Python\n",
    "    \n",
    "    \n",
    "* [DEAP](https://deap.readthedocs.io/en/master/)\n",
    "    * Genetic Algorithm and Genetic Programming library\n",
    "    \n",
    "    \n",
    "* [Stack Overflow](https://stackoverflow.com/)\n",
    "    * Question - Answer website for programmers\n"
   ]
  }
 ],
 "metadata": {
  "kernelspec": {
   "display_name": "Python 3",
   "language": "python",
   "name": "python3"
  },
  "language_info": {
   "codemirror_mode": {
    "name": "ipython",
    "version": 3
   },
   "file_extension": ".py",
   "mimetype": "text/x-python",
   "name": "python",
   "nbconvert_exporter": "python",
   "pygments_lexer": "ipython3",
   "version": "3.8.5"
  }
 },
 "nbformat": 4,
 "nbformat_minor": 2
}
