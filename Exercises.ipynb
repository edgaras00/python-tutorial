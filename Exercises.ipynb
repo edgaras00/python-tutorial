{
 "cells": [
  {
   "cell_type": "code",
   "execution_count": 1,
   "metadata": {
    "collapsed": true
   },
   "outputs": [],
   "source": [
    "# Exercise 1.\n",
    "# Extract the third character in the string and change it to uppercase. Print the result.\n",
    "\n",
    "string = 'Hello, World!'\n"
   ]
  },
  {
   "cell_type": "code",
   "execution_count": 2,
   "metadata": {
    "collapsed": true
   },
   "outputs": [],
   "source": [
    "# Exercise 2.\n",
    "# Extract the 5th, 7th, and 9th characters in the  number string. Sum them and print the result.\n",
    "\n",
    "num_string = '783264811953678991250'\n"
   ]
  },
  {
   "cell_type": "code",
   "execution_count": 3,
   "metadata": {
    "collapsed": true
   },
   "outputs": [],
   "source": [
    "# Exercise 3.\n",
    "# Replace every '0' with '1'. Print the result.\n",
    "\n",
    "binary_str = '10100001000100101110010100100111101001000100010101011100010'\n"
   ]
  },
  {
   "cell_type": "code",
   "execution_count": 4,
   "metadata": {
    "collapsed": true
   },
   "outputs": [],
   "source": [
    "# Exercise 4.\n",
    "# Multiply the 5th and last elements of the given list. Print the result. \n",
    "\n",
    "lst = [12, 7, 42.2, 66, -4, -21, 7, 65, 12, 8, -1, 9]\n"
   ]
  },
  {
   "cell_type": "code",
   "execution_count": 5,
   "metadata": {
    "collapsed": true
   },
   "outputs": [],
   "source": [
    "# Exercise 5.\n",
    "# Print the first 3 elements of the given list.\n",
    "\n",
    "subjects = ['Biology', 'History', 'Chemistry', 'Calculus', 'English']\n"
   ]
  },
  {
   "cell_type": "code",
   "execution_count": 6,
   "metadata": {
    "collapsed": true
   },
   "outputs": [],
   "source": [
    "# Exercise 6.\n",
    "# Create a new list where each number in the given list is converted to a string type.\n",
    "\n",
    "nums = [22, 34, 3.14, 42, 0, 11.2]\n"
   ]
  },
  {
   "cell_type": "code",
   "execution_count": 7,
   "metadata": {
    "collapsed": true
   },
   "outputs": [],
   "source": [
    "# Exercise 7.\n",
    "# Remove strings that are longer than 6 characters. Print the modified list. \n",
    "\n",
    "string_list = ['borrelia', 'tick', 'evolution', 'tree', 'bioinformatics', 'bio', 'analysis', 'lyme', 'data']\n",
    "\n"
   ]
  },
  {
   "cell_type": "code",
   "execution_count": 8,
   "metadata": {
    "collapsed": true
   },
   "outputs": [],
   "source": [
    "# Exercise 8.\n",
    "# Count the number of G's and C's in the given string.\n",
    "\n",
    "dna = \"GAGCACATATGAGAGTGTTAGAACTGGACGTGCGGTTTCTCTGCGAAGAACACCTCGAGCTGTTGCGTTGTTGCGCTGCCTAGATGCAGT\"\n",
    "    "
   ]
  },
  {
   "cell_type": "code",
   "execution_count": 9,
   "metadata": {
    "collapsed": true
   },
   "outputs": [],
   "source": [
    "# Exercise 9.\n",
    "# Use list comprehension to create a new list where every word from the old list is in uppercase and has an\n",
    "# exclamation point after it. Example: 'word' --> 'WORD!'\n",
    "\n",
    "words = ['hello', 'world', 'python', 'genetics', 'rna', 'protein']\n"
   ]
  },
  {
   "cell_type": "code",
   "execution_count": 10,
   "metadata": {
    "collapsed": true
   },
   "outputs": [],
   "source": [
    "# Exercise 10.\n",
    "# Use list comprehension to create a new list of numbers where each odd number in the given list is multiplied by 5.\n",
    "\n",
    "numbers = [3, 4, 78, 56, 32, 11, 91, 0, 39, 99, 101, 222, 43]\n"
   ]
  },
  {
   "cell_type": "code",
   "execution_count": 11,
   "metadata": {
    "collapsed": true
   },
   "outputs": [],
   "source": [
    "# Exercise 11.\n",
    "# Convert the given sequence of codons into one string.\n",
    "\n",
    "codons = 'atg, caa, aag, gat, cca, tgt, ttc, cgg'\n",
    "\n"
   ]
  },
  {
   "cell_type": "code",
   "execution_count": 12,
   "metadata": {
    "collapsed": true
   },
   "outputs": [],
   "source": [
    "# Exercise 12.\n",
    "# Write a function that takes in a list of numbers and returns the mean value.\n",
    "\n",
    "nums = [632, 540, 311, 784, 421, 500, 889, 720, 613]\n",
    "\n"
   ]
  },
  {
   "cell_type": "code",
   "execution_count": 13,
   "metadata": {
    "collapsed": true
   },
   "outputs": [],
   "source": [
    "# Exercise 13.\n",
    "# Write a function that performs trancription on a given DNA string and returns an RNA string.\n",
    "# Base pairs: a-u, c-g, , g-c, t-a\n",
    "\n",
    "dna1 = 'acacggcttaa'\n",
    "dna2 = 'tcaaccgttcagtga'\n",
    "\n"
   ]
  },
  {
   "cell_type": "code",
   "execution_count": 14,
   "metadata": {
    "collapsed": true
   },
   "outputs": [],
   "source": [
    "# Exercise 14.\n",
    "# Create a new list containing sums of each inner list.\n",
    "\n",
    "nested_list = [[34, 56, -22, -4, 29],\n",
    "               [56, 92, 102, 121, 7],\n",
    "               [92, 37, 80, -12, 35],\n",
    "               [-9, 0, -15, -23, 56],\n",
    "               [23, 54, 37, 120, 57]]\n",
    "\n"
   ]
  },
  {
   "cell_type": "code",
   "execution_count": 15,
   "metadata": {
    "collapsed": true
   },
   "outputs": [],
   "source": [
    "# Exercise 15.\n",
    "# Write a function that takes in a sentence string and returns a dictionary where every key is a word of the\n",
    "# sentence and every value is the length of that word.\n",
    "\n",
    "string = 'The quick brown fox jumps over the lazy dog'\n",
    "\n"
   ]
  },
  {
   "cell_type": "code",
   "execution_count": 16,
   "metadata": {
    "collapsed": true
   },
   "outputs": [],
   "source": [
    "# Exercise 16.\n",
    "# Print the last row of the given 2D array.\n",
    "import numpy as np\n",
    "array = np.array([[34, 56, -22, -4, 29],\n",
    "                  [56, 92, 102, 121, 7],\n",
    "                  [92, 37, 80, -12, 35],\n",
    "                  [-9, 0, -15, -23, 56],\n",
    "                  [23, 54, 37, 120, 57]])\n",
    "\n"
   ]
  },
  {
   "cell_type": "code",
   "execution_count": 17,
   "metadata": {
    "collapsed": true
   },
   "outputs": [],
   "source": [
    "# Exercise 17.\n",
    "# Print the first three rows of the given array.\n",
    "\n",
    "array = np.array([[34, 56, -22, -4, 29],\n",
    "                  [56, 92, 102, 121, 7],\n",
    "                  [92, 37, 80, -12, 35],\n",
    "                  [-9, 0, -15, -23, 56],\n",
    "                  [23, 54, 37, 120, 57]])\n",
    "\n"
   ]
  },
  {
   "cell_type": "code",
   "execution_count": 18,
   "metadata": {
    "collapsed": true
   },
   "outputs": [],
   "source": [
    "# Exercise 18.\n",
    "# Print the first element of the second row.\n",
    "\n",
    "array = np.array([[34, 56, -22, -4, 29],\n",
    "                  [56, 92, 102, 121, 7],\n",
    "                  [92, 37, 80, -12, 35],\n",
    "                  [-9, 0, -15, -23, 56],\n",
    "                  [23, 54, 37, 120, 57]])\n",
    "\n"
   ]
  },
  {
   "cell_type": "code",
   "execution_count": 19,
   "metadata": {
    "collapsed": true
   },
   "outputs": [],
   "source": [
    "# Exercise 19.\n",
    "# Print columns 2 and 4 of the given array.\n",
    "\n",
    "array = np.array([[34, 56, -22, -4, 29],\n",
    "                  [56, 92, 102, 121, 7],\n",
    "                  [92, 37, 80, -12, 35],\n",
    "                  [-9, 0, -15, -23, 56],\n",
    "                  [23, 54, 37, 120, 57]])\n",
    "\n"
   ]
  },
  {
   "cell_type": "code",
   "execution_count": 20,
   "metadata": {
    "collapsed": true
   },
   "outputs": [],
   "source": [
    "# Exercise 20.\n",
    "# Select all negative values of the given array.\n",
    "\n",
    "array = np.array([[34, 56, -22, -4, 29],\n",
    "                  [56, 92, 102, 121, 7],\n",
    "                  [92, 37, 80, -12, 35],\n",
    "                  [-9, 0, -15, -23, 56],\n",
    "                  [23, 54, 37, 120, 57]])\n",
    "\n"
   ]
  },
  {
   "cell_type": "code",
   "execution_count": 21,
   "metadata": {},
   "outputs": [
    {
     "data": {
      "text/html": [
       "<div>\n",
       "<style>\n",
       "    .dataframe thead tr:only-child th {\n",
       "        text-align: right;\n",
       "    }\n",
       "\n",
       "    .dataframe thead th {\n",
       "        text-align: left;\n",
       "    }\n",
       "\n",
       "    .dataframe tbody tr th {\n",
       "        vertical-align: top;\n",
       "    }\n",
       "</style>\n",
       "<table border=\"1\" class=\"dataframe\">\n",
       "  <thead>\n",
       "    <tr style=\"text-align: right;\">\n",
       "      <th></th>\n",
       "      <th>sepal.length</th>\n",
       "      <th>sepal.width</th>\n",
       "      <th>petal.length</th>\n",
       "      <th>petal.width</th>\n",
       "      <th>variety</th>\n",
       "    </tr>\n",
       "  </thead>\n",
       "  <tbody>\n",
       "    <tr>\n",
       "      <th>0</th>\n",
       "      <td>5.1</td>\n",
       "      <td>3.5</td>\n",
       "      <td>1.4</td>\n",
       "      <td>0.2</td>\n",
       "      <td>Setosa</td>\n",
       "    </tr>\n",
       "    <tr>\n",
       "      <th>1</th>\n",
       "      <td>4.9</td>\n",
       "      <td>3.0</td>\n",
       "      <td>1.4</td>\n",
       "      <td>0.2</td>\n",
       "      <td>Setosa</td>\n",
       "    </tr>\n",
       "    <tr>\n",
       "      <th>2</th>\n",
       "      <td>6.5</td>\n",
       "      <td>3.0</td>\n",
       "      <td>5.2</td>\n",
       "      <td>2.0</td>\n",
       "      <td>Virginica</td>\n",
       "    </tr>\n",
       "    <tr>\n",
       "      <th>3</th>\n",
       "      <td>7.0</td>\n",
       "      <td>3.2</td>\n",
       "      <td>4.7</td>\n",
       "      <td>1.4</td>\n",
       "      <td>Versicolor</td>\n",
       "    </tr>\n",
       "    <tr>\n",
       "      <th>4</th>\n",
       "      <td>5.9</td>\n",
       "      <td>3.2</td>\n",
       "      <td>4.8</td>\n",
       "      <td>1.8</td>\n",
       "      <td>Versicolor</td>\n",
       "    </tr>\n",
       "    <tr>\n",
       "      <th>5</th>\n",
       "      <td>6.3</td>\n",
       "      <td>3.3</td>\n",
       "      <td>6.0</td>\n",
       "      <td>2.5</td>\n",
       "      <td>Virginica</td>\n",
       "    </tr>\n",
       "  </tbody>\n",
       "</table>\n",
       "</div>"
      ],
      "text/plain": [
       "   sepal.length  sepal.width  petal.length  petal.width     variety\n",
       "0           5.1          3.5           1.4          0.2      Setosa\n",
       "1           4.9          3.0           1.4          0.2      Setosa\n",
       "2           6.5          3.0           5.2          2.0   Virginica\n",
       "3           7.0          3.2           4.7          1.4  Versicolor\n",
       "4           5.9          3.2           4.8          1.8  Versicolor\n",
       "5           6.3          3.3           6.0          2.5   Virginica"
      ]
     },
     "execution_count": 21,
     "metadata": {},
     "output_type": "execute_result"
    }
   ],
   "source": [
    "# Use the dataframe below to complete the exercises.\n",
    "import pandas as pd\n",
    "data = [[5.1, 3.5, 1.4, 0.2, 'Setosa'],\n",
    "        [4.9, 3.0, 1.4, 0.2, 'Setosa'],\n",
    "        [6.5, 3.0, 5.2, 2.0, 'Virginica'],\n",
    "        [7.0, 3.2, 4.7, 1.4, 'Versicolor'],\n",
    "        [5.9, 3.2, 4.8, 1.8, 'Versicolor'],\n",
    "        [6.3, 3.3, 6.0, 2.5, 'Virginica']]\n",
    "\n",
    "cols = ['sepal.length', 'sepal.width', 'petal.length', 'petal.width', 'variety']\n",
    "df = pd.DataFrame(data, columns = cols)\n",
    "df"
   ]
  },
  {
   "cell_type": "code",
   "execution_count": 22,
   "metadata": {
    "collapsed": true
   },
   "outputs": [],
   "source": [
    "# Exercise 21.\n",
    "# Print the sepal.length and petal.width columns using labels.\n",
    "\n"
   ]
  },
  {
   "cell_type": "code",
   "execution_count": 23,
   "metadata": {
    "collapsed": true
   },
   "outputs": [],
   "source": [
    "# Exercise 22.\n",
    "# Print the first 3 columns using labels.\n",
    "\n"
   ]
  },
  {
   "cell_type": "code",
   "execution_count": 24,
   "metadata": {
    "collapsed": true
   },
   "outputs": [],
   "source": [
    "# Exercise 23.\n",
    "# Print rows 3-5 using integer indexing.\n",
    "\n"
   ]
  },
  {
   "cell_type": "code",
   "execution_count": 25,
   "metadata": {
    "collapsed": true
   },
   "outputs": [],
   "source": [
    "# Exercise 24.\n",
    "# Select the third column using integer indexing.\n",
    "\n"
   ]
  },
  {
   "cell_type": "code",
   "execution_count": 26,
   "metadata": {
    "collapsed": true
   },
   "outputs": [],
   "source": [
    "# Exercise 25.\n",
    "# Print the mean of the petal.length column.\n",
    "\n"
   ]
  },
  {
   "cell_type": "code",
   "execution_count": 27,
   "metadata": {
    "collapsed": true
   },
   "outputs": [],
   "source": [
    "# Exercise 26.\n",
    "# Print the sums of all length columns\n",
    "\n"
   ]
  },
  {
   "cell_type": "code",
   "execution_count": 28,
   "metadata": {
    "collapsed": true
   },
   "outputs": [],
   "source": [
    "# Exercise 27.\n",
    "# Plot a line chart. Label the axes and add a title. \n",
    "%matplotlib inline\n",
    "import matplotlib.pyplot as plt\n",
    "x = [0.2, 0.6, 0.8, 1.2, 1.6]\n",
    "y = [0.4, 1.2, 1.6, 2.4, 3.2]\n",
    "\n"
   ]
  }
 ],
 "metadata": {
  "kernelspec": {
   "display_name": "Python 3",
   "language": "python",
   "name": "python3"
  },
  "language_info": {
   "codemirror_mode": {
    "name": "ipython",
    "version": 3
   },
   "file_extension": ".py",
   "mimetype": "text/x-python",
   "name": "python",
   "nbconvert_exporter": "python",
   "pygments_lexer": "ipython3",
   "version": "3.6.2"
  }
 },
 "nbformat": 4,
 "nbformat_minor": 2
}
