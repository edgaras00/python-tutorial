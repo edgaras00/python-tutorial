{
 "cells": [
  {
   "cell_type": "code",
   "execution_count": 1,
   "metadata": {},
   "outputs": [
    {
     "name": "stdout",
     "output_type": "stream",
     "text": [
      "L\n"
     ]
    }
   ],
   "source": [
    "# Exercise 1.\n",
    "# Extract the third character in the string and change it to uppercase. Print the result.\n",
    "\n",
    "string = 'Hello, World!'\n",
    "third_char = string[2].upper()\n",
    "print(third_char)"
   ]
  },
  {
   "cell_type": "code",
   "execution_count": 2,
   "metadata": {},
   "outputs": [
    {
     "name": "stdout",
     "output_type": "stream",
     "text": [
      "15\n"
     ]
    }
   ],
   "source": [
    "# Exercise 2.\n",
    "# Extract the 5th, 7th, and 9th characters in the  number string. Sum them and print the result.\n",
    "\n",
    "num_string = '783264811953678991250'\n",
    "\n",
    "fifth = num_string[4]       # '6'\n",
    "seventh = num_string[6]     # '8'\n",
    "ninth = num_string[8]       # '1'\n",
    "\n",
    "total = int(fifth) + int(seventh) + int(ninth)\n",
    "print(total)"
   ]
  },
  {
   "cell_type": "code",
   "execution_count": 3,
   "metadata": {},
   "outputs": [
    {
     "name": "stdout",
     "output_type": "stream",
     "text": [
      "11111111111111111111111111111111111111111111111111111111111\n"
     ]
    }
   ],
   "source": [
    "# Exercise 3.\n",
    "# Replace every '0' with '1'. Print the result.\n",
    "binary_str = '10100001000100101110010100100111101001000100010101011100010'\n",
    "print(binary_str.replace('0', '1'))"
   ]
  },
  {
   "cell_type": "code",
   "execution_count": 4,
   "metadata": {},
   "outputs": [
    {
     "name": "stdout",
     "output_type": "stream",
     "text": [
      "-36\n"
     ]
    }
   ],
   "source": [
    "# Exercise 4.\n",
    "# Multiply the 5th and last elements of the given list. Print the result. \n",
    "\n",
    "lst = [12, 7, 42.2, 66, -4, -21, 7, 65, 12, 8, -1, 9]\n",
    "fifth = lst[4]\n",
    "last = lst[-1]\n",
    "\n",
    "print(fifth * last)"
   ]
  },
  {
   "cell_type": "code",
   "execution_count": 5,
   "metadata": {},
   "outputs": [
    {
     "name": "stdout",
     "output_type": "stream",
     "text": [
      "['Biology', 'History', 'Chemistry']\n"
     ]
    }
   ],
   "source": [
    "# Exercise 5.\n",
    "# Print the first 3 elements of the given list.\n",
    "\n",
    "subjects = ['Biology', 'History', 'Chemistry', 'Calculus', 'English']\n",
    "print(subjects[:3])"
   ]
  },
  {
   "cell_type": "code",
   "execution_count": 6,
   "metadata": {},
   "outputs": [
    {
     "name": "stdout",
     "output_type": "stream",
     "text": [
      "['22', '34', '3.14', '42', '0', '11.2']\n"
     ]
    }
   ],
   "source": [
    "# Exercise 6.\n",
    "# Create a new list where each number in the given list is converted to a string type.\n",
    "\n",
    "nums = [22, 34, 3.14, 42, 0, 11.2]\n",
    "string_nums = []\n",
    "for num in nums:\n",
    "    string_nums.append(str(num))\n",
    "\n",
    "print(string_nums)"
   ]
  },
  {
   "cell_type": "code",
   "execution_count": 7,
   "metadata": {},
   "outputs": [
    {
     "name": "stdout",
     "output_type": "stream",
     "text": [
      "['tick', 'tree', 'bio', 'lyme', 'data']\n"
     ]
    }
   ],
   "source": [
    "# Exercise 7.\n",
    "# Remove strings that are longer than 6 characters. Print the modified list. \n",
    "\n",
    "string_list = ['borrelia', 'tick', 'evolution', 'tree', 'bioinformatics', 'bio', 'analysis', 'lyme', 'data']\n",
    "\n",
    "for string in string_list:\n",
    "    if len(string) > 6:\n",
    "        string_list.remove(string)\n",
    "        \n",
    "print(string_list)"
   ]
  },
  {
   "cell_type": "code",
   "execution_count": 8,
   "metadata": {},
   "outputs": [
    {
     "name": "stdout",
     "output_type": "stream",
     "text": [
      "G count:  28\n",
      "C count:  19\n"
     ]
    }
   ],
   "source": [
    "# Exercise 8.\n",
    "# Count the number of G's and C's in the given string.\n",
    "\n",
    "dna = \"GAGCACATATGAGAGTGTTAGAACTGGACGTGCGGTTTCTCTGCGAAGAACACCTCGAGCTGTTGCGTTGTTGCGCTGCCTAGATGCAGT\"\n",
    "\n",
    "g_count = 0\n",
    "c_count = 0\n",
    "\n",
    "for base in dna:\n",
    "    if base == 'G':\n",
    "        g_count += 1\n",
    "    if base == 'C':\n",
    "        c_count += 1\n",
    "\n",
    "print(\"G count: \", g_count)\n",
    "print(\"C count: \", c_count)\n",
    "    "
   ]
  },
  {
   "cell_type": "code",
   "execution_count": 9,
   "metadata": {},
   "outputs": [
    {
     "name": "stdout",
     "output_type": "stream",
     "text": [
      "['HELLO!', 'WORLD!', 'PYTHON!', 'GENETICS!', 'RNA!', 'PROTEIN!']\n"
     ]
    }
   ],
   "source": [
    "# Exercise 9.\n",
    "# Use list comprehension to create a new list where every word from the old list is in uppercase and has an\n",
    "# exclamation point after it. Example: 'word' --> 'WORD!'\n",
    "\n",
    "words = ['hello', 'world', 'python', 'genetics', 'rna', 'protein']\n",
    "\n",
    "new_words = [word.upper() + '!' for word in words]\n",
    "print(new_words)"
   ]
  },
  {
   "cell_type": "code",
   "execution_count": 10,
   "metadata": {},
   "outputs": [
    {
     "name": "stdout",
     "output_type": "stream",
     "text": [
      "[15, 55, 455, 195, 495, 505, 215]\n"
     ]
    }
   ],
   "source": [
    "# Exercise 10.\n",
    "# Use list comprehension to create a new list of numbers where each odd number in the given list is multiplied by 5.\n",
    "\n",
    "numbers = [3, 4, 78, 56, 32, 11, 91, 0, 39, 99, 101, 222, 43]\n",
    "new = [num * 5 for num in numbers if num % 2 != 0]\n",
    "print(new)"
   ]
  },
  {
   "cell_type": "code",
   "execution_count": 11,
   "metadata": {},
   "outputs": [
    {
     "name": "stdout",
     "output_type": "stream",
     "text": [
      "atgcaaaaggatccatgtttccgg\n"
     ]
    }
   ],
   "source": [
    "# Exercise 11.\n",
    "# Convert the given sequence of codons into one string.\n",
    "\n",
    "codons = 'atg, caa, aag, gat, cca, tgt, ttc, cgg'\n",
    "\n",
    "codon_list = codons.split(', ')\n",
    "string = ''.join(codon_list)\n",
    "\n",
    "print(string)"
   ]
  },
  {
   "cell_type": "code",
   "execution_count": 12,
   "metadata": {},
   "outputs": [
    {
     "name": "stdout",
     "output_type": "stream",
     "text": [
      "601.1111111111111\n"
     ]
    }
   ],
   "source": [
    "# Exercise 12.\n",
    "# Write a function that takes in a list of numbers and returns the mean value.\n",
    "\n",
    "nums = [632, 540, 311, 784, 421, 500, 889, 720, 613]\n",
    "\n",
    "def my_mean(numbers):\n",
    "    total = sum(numbers)\n",
    "    return total / len(numbers)\n",
    "\n",
    "print(my_mean(nums))"
   ]
  },
  {
   "cell_type": "code",
   "execution_count": 13,
   "metadata": {},
   "outputs": [
    {
     "name": "stdout",
     "output_type": "stream",
     "text": [
      "ugugccgaauu\n",
      "aguuggcaagucacu\n"
     ]
    }
   ],
   "source": [
    "# Exercise 13.\n",
    "# Write a function that performs trancription on a given DNA string and returns an RNA string.\n",
    "# Base pairs: a-u, c-g, , g-c, t-a\n",
    "\n",
    "dna1 = 'acacggcttaa'\n",
    "dna2 = 'tcaaccgttcagtga'\n",
    "\n",
    "def transcribe(dna):\n",
    "    rna = ''\n",
    "    for base in dna:\n",
    "        if base == 'a':\n",
    "            rna += 'u'\n",
    "        elif base == 'c':\n",
    "            rna += 'g'\n",
    "        elif base == 'g':\n",
    "            rna += 'c'\n",
    "        else:\n",
    "            rna += 'a'\n",
    "    return rna\n",
    "\n",
    "print(transcribe(dna1))\n",
    "print(transcribe(dna2))"
   ]
  },
  {
   "cell_type": "code",
   "execution_count": 14,
   "metadata": {},
   "outputs": [
    {
     "name": "stdout",
     "output_type": "stream",
     "text": [
      "[93, 378, 232, 9, 291]\n"
     ]
    }
   ],
   "source": [
    "# Exercise 14.\n",
    "# Create a new list containing sums of each inner list.\n",
    "\n",
    "nested_list = [[34, 56, -22, -4, 29],\n",
    "               [56, 92, 102, 121, 7],\n",
    "               [92, 37, 80, -12, 35],\n",
    "               [-9, 0, -15, -23, 56],\n",
    "               [23, 54, 37, 120, 57]]\n",
    "\n",
    "\n",
    "sums = list(map(sum, nested_list))\n",
    "print(sums)"
   ]
  },
  {
   "cell_type": "code",
   "execution_count": 15,
   "metadata": {},
   "outputs": [
    {
     "name": "stdout",
     "output_type": "stream",
     "text": [
      "{'The': 3, 'quick': 5, 'brown': 5, 'fox': 3, 'jumps': 5, 'over': 4, 'the': 3, 'lazy': 4, 'Dog': 3}\n"
     ]
    }
   ],
   "source": [
    "# Exercise 15.\n",
    "# Write a function that takes in a sentence string and returns a dictionary where every key is a word of the\n",
    "# sentence and every value is the length of that word.\n",
    "\n",
    "string = 'The quick brown fox jumps over the lazy dog'\n",
    "\n",
    "def word_lengths(sentence):\n",
    "    lengths = {}\n",
    "    words = sentence.split()\n",
    "    for word in words:\n",
    "        lengths[word] = len(word)\n",
    "    return lengths\n",
    "\n",
    "lengths = word_lengths(string)\n",
    "print(lengths)"
   ]
  },
  {
   "cell_type": "code",
   "execution_count": 16,
   "metadata": {},
   "outputs": [
    {
     "name": "stdout",
     "output_type": "stream",
     "text": [
      "[ 23  54  37 120  57]\n"
     ]
    }
   ],
   "source": [
    "# Exercise 16.\n",
    "# Print the last row of the given 2D array.\n",
    "import numpy as np\n",
    "array = np.array([[34, 56, -22, -4, 29],\n",
    "                  [56, 92, 102, 121, 7],\n",
    "                  [92, 37, 80, -12, 35],\n",
    "                  [-9, 0, -15, -23, 56],\n",
    "                  [23, 54, 37, 120, 57]])\n",
    "\n",
    "print(array[-1])"
   ]
  },
  {
   "cell_type": "code",
   "execution_count": 17,
   "metadata": {},
   "outputs": [
    {
     "name": "stdout",
     "output_type": "stream",
     "text": [
      "[[ 34  56 -22  -4  29]\n",
      " [ 56  92 102 121   7]\n",
      " [ 92  37  80 -12  35]]\n"
     ]
    }
   ],
   "source": [
    "# Exercise 17.\n",
    "# Print the first three rows of the given array.\n",
    "\n",
    "array = np.array([[34, 56, -22, -4, 29],\n",
    "                  [56, 92, 102, 121, 7],\n",
    "                  [92, 37, 80, -12, 35],\n",
    "                  [-9, 0, -15, -23, 56],\n",
    "                  [23, 54, 37, 120, 57]])\n",
    "\n",
    "print(array[:3])"
   ]
  },
  {
   "cell_type": "code",
   "execution_count": 18,
   "metadata": {},
   "outputs": [
    {
     "name": "stdout",
     "output_type": "stream",
     "text": [
      "56\n"
     ]
    }
   ],
   "source": [
    "# Exercise 18.\n",
    "# Print the first element of the second row.\n",
    "\n",
    "array = np.array([[34, 56, -22, -4, 29],\n",
    "                  [56, 92, 102, 121, 7],\n",
    "                  [92, 37, 80, -12, 35],\n",
    "                  [-9, 0, -15, -23, 56],\n",
    "                  [23, 54, 37, 120, 57]])\n",
    "\n",
    "print(array[1, 0])"
   ]
  },
  {
   "cell_type": "code",
   "execution_count": 19,
   "metadata": {},
   "outputs": [
    {
     "name": "stdout",
     "output_type": "stream",
     "text": [
      "[[ 56  -4]\n",
      " [ 92 121]\n",
      " [ 37 -12]\n",
      " [  0 -23]\n",
      " [ 54 120]]\n"
     ]
    }
   ],
   "source": [
    "# Exercise 19.\n",
    "# Print columns 2 and 4 of the given array.\n",
    "\n",
    "array = np.array([[34, 56, -22, -4, 29],\n",
    "                  [56, 92, 102, 121, 7],\n",
    "                  [92, 37, 80, -12, 35],\n",
    "                  [-9, 0, -15, -23, 56],\n",
    "                  [23, 54, 37, 120, 57]])\n",
    "\n",
    "print(array[:, [1, 3]])"
   ]
  },
  {
   "cell_type": "code",
   "execution_count": 20,
   "metadata": {},
   "outputs": [
    {
     "name": "stdout",
     "output_type": "stream",
     "text": [
      "[-22  -4 -12  -9 -15 -23]\n"
     ]
    }
   ],
   "source": [
    "# Exercise 20.\n",
    "# Select all negative values of the given array.\n",
    "\n",
    "array = np.array([[34, 56, -22, -4, 29],\n",
    "                  [56, 92, 102, 121, 7],\n",
    "                  [92, 37, 80, -12, 35],\n",
    "                  [-9, 0, -15, -23, 56],\n",
    "                  [23, 54, 37, 120, 57]])\n",
    "\n",
    "print(array[array < 0])"
   ]
  },
  {
   "cell_type": "code",
   "execution_count": 21,
   "metadata": {},
   "outputs": [
    {
     "data": {
      "text/html": [
       "<div>\n",
       "<style>\n",
       "    .dataframe thead tr:only-child th {\n",
       "        text-align: right;\n",
       "    }\n",
       "\n",
       "    .dataframe thead th {\n",
       "        text-align: left;\n",
       "    }\n",
       "\n",
       "    .dataframe tbody tr th {\n",
       "        vertical-align: top;\n",
       "    }\n",
       "</style>\n",
       "<table border=\"1\" class=\"dataframe\">\n",
       "  <thead>\n",
       "    <tr style=\"text-align: right;\">\n",
       "      <th></th>\n",
       "      <th>sepal.length</th>\n",
       "      <th>sepal.width</th>\n",
       "      <th>petal.length</th>\n",
       "      <th>petal.width</th>\n",
       "      <th>variety</th>\n",
       "    </tr>\n",
       "  </thead>\n",
       "  <tbody>\n",
       "    <tr>\n",
       "      <th>0</th>\n",
       "      <td>5.1</td>\n",
       "      <td>3.5</td>\n",
       "      <td>1.4</td>\n",
       "      <td>0.2</td>\n",
       "      <td>Setosa</td>\n",
       "    </tr>\n",
       "    <tr>\n",
       "      <th>1</th>\n",
       "      <td>4.9</td>\n",
       "      <td>3.0</td>\n",
       "      <td>1.4</td>\n",
       "      <td>0.2</td>\n",
       "      <td>Setosa</td>\n",
       "    </tr>\n",
       "    <tr>\n",
       "      <th>2</th>\n",
       "      <td>6.5</td>\n",
       "      <td>3.0</td>\n",
       "      <td>5.2</td>\n",
       "      <td>2.0</td>\n",
       "      <td>Virginica</td>\n",
       "    </tr>\n",
       "    <tr>\n",
       "      <th>3</th>\n",
       "      <td>7.0</td>\n",
       "      <td>3.2</td>\n",
       "      <td>4.7</td>\n",
       "      <td>1.4</td>\n",
       "      <td>Versicolor</td>\n",
       "    </tr>\n",
       "    <tr>\n",
       "      <th>4</th>\n",
       "      <td>5.9</td>\n",
       "      <td>3.2</td>\n",
       "      <td>4.8</td>\n",
       "      <td>1.8</td>\n",
       "      <td>Versicolor</td>\n",
       "    </tr>\n",
       "    <tr>\n",
       "      <th>5</th>\n",
       "      <td>6.3</td>\n",
       "      <td>3.3</td>\n",
       "      <td>6.0</td>\n",
       "      <td>2.5</td>\n",
       "      <td>Virginica</td>\n",
       "    </tr>\n",
       "  </tbody>\n",
       "</table>\n",
       "</div>"
      ],
      "text/plain": [
       "   sepal.length  sepal.width  petal.length  petal.width     variety\n",
       "0           5.1          3.5           1.4          0.2      Setosa\n",
       "1           4.9          3.0           1.4          0.2      Setosa\n",
       "2           6.5          3.0           5.2          2.0   Virginica\n",
       "3           7.0          3.2           4.7          1.4  Versicolor\n",
       "4           5.9          3.2           4.8          1.8  Versicolor\n",
       "5           6.3          3.3           6.0          2.5   Virginica"
      ]
     },
     "execution_count": 21,
     "metadata": {},
     "output_type": "execute_result"
    }
   ],
   "source": [
    "# Exercise 21.\n",
    "# Use the dataframe below to complete the exercises.\n",
    "\n",
    "import pandas as pd\n",
    "data = [[5.1, 3.5, 1.4, 0.2, 'Setosa'],\n",
    "        [4.9, 3.0, 1.4, 0.2, 'Setosa'],\n",
    "        [6.5, 3.0, 5.2, 2.0, 'Virginica'],\n",
    "        [7.0, 3.2, 4.7, 1.4, 'Versicolor'],\n",
    "        [5.9, 3.2, 4.8, 1.8, 'Versicolor'],\n",
    "        [6.3, 3.3, 6.0, 2.5, 'Virginica']]\n",
    "\n",
    "cols = ['sepal.length', 'sepal.width', 'petal.length', 'petal.width', 'variety']\n",
    "df = pd.DataFrame(data, columns = cols)\n",
    "df"
   ]
  },
  {
   "cell_type": "code",
   "execution_count": 22,
   "metadata": {},
   "outputs": [
    {
     "name": "stdout",
     "output_type": "stream",
     "text": [
      "   sepal.length  petal.width\n",
      "0           5.1          0.2\n",
      "1           4.9          0.2\n",
      "2           6.5          2.0\n",
      "3           7.0          1.4\n",
      "4           5.9          1.8\n",
      "5           6.3          2.5\n"
     ]
    }
   ],
   "source": [
    "# Exercise 22.\n",
    "# Print the sepal.length and petal.width columns using labels.\n",
    "\n",
    "print(df[['sepal.length', 'petal.width']])"
   ]
  },
  {
   "cell_type": "code",
   "execution_count": 23,
   "metadata": {},
   "outputs": [
    {
     "name": "stdout",
     "output_type": "stream",
     "text": [
      "   sepal.length  sepal.width  petal.length\n",
      "0           5.1          3.5           1.4\n",
      "1           4.9          3.0           1.4\n",
      "2           6.5          3.0           5.2\n",
      "3           7.0          3.2           4.7\n",
      "4           5.9          3.2           4.8\n",
      "5           6.3          3.3           6.0\n"
     ]
    }
   ],
   "source": [
    "# Exercise 23.\n",
    "# Print the first 3 columns using labels.\n",
    "\n",
    "print(df.loc[:, 'sepal.length' : 'petal.length'])"
   ]
  },
  {
   "cell_type": "code",
   "execution_count": 24,
   "metadata": {},
   "outputs": [
    {
     "name": "stdout",
     "output_type": "stream",
     "text": [
      "   sepal.length  sepal.width  petal.length  petal.width     variety\n",
      "2           6.5          3.0           5.2          2.0   Virginica\n",
      "3           7.0          3.2           4.7          1.4  Versicolor\n",
      "4           5.9          3.2           4.8          1.8  Versicolor\n"
     ]
    }
   ],
   "source": [
    "# Exercise 24.\n",
    "# Print rows 3-5 using integer indexing.\n",
    "\n",
    "print(df.iloc[2:5])"
   ]
  },
  {
   "cell_type": "code",
   "execution_count": 25,
   "metadata": {},
   "outputs": [
    {
     "name": "stdout",
     "output_type": "stream",
     "text": [
      "0    1.4\n",
      "1    1.4\n",
      "2    5.2\n",
      "3    4.7\n",
      "4    4.8\n",
      "5    6.0\n",
      "Name: petal.length, dtype: float64\n"
     ]
    }
   ],
   "source": [
    "# Exercise 25.\n",
    "# Select the third column using integer indexing.\n",
    "\n",
    "print(df.iloc[:, 2])"
   ]
  },
  {
   "cell_type": "code",
   "execution_count": 26,
   "metadata": {},
   "outputs": [
    {
     "name": "stdout",
     "output_type": "stream",
     "text": [
      "3.9166666666666665\n"
     ]
    }
   ],
   "source": [
    "# Exercise 26.\n",
    "# Print the mean of the petal.length column.\n",
    "\n",
    "print(df['petal.length'].mean())"
   ]
  },
  {
   "cell_type": "code",
   "execution_count": 35,
   "metadata": {},
   "outputs": [
    {
     "name": "stdout",
     "output_type": "stream",
     "text": [
      "sepal.length    35.7\n",
      "petal.length    23.5\n",
      "dtype: float64\n"
     ]
    }
   ],
   "source": [
    "# Exercise 27.\n",
    "# Print the sums of all length columns\n",
    "\n",
    "print(df[['sepal.length', 'petal.length']].apply(sum, axis = 0))"
   ]
  },
  {
   "cell_type": "code",
   "execution_count": 28,
   "metadata": {},
   "outputs": [
    {
     "data": {
      "image/png": "[encoded data removed]",
      "text/plain": [
       "<matplotlib.figure.Figure at 0x11a00b6a0>"
      ]
     },
     "metadata": {},
     "output_type": "display_data"
    }
   ],
   "source": [
    "# Exercise 28.\n",
    "# Plot a line chart. Label the axes and add a title. \n",
    "%matplotlib inline\n",
    "import matplotlib.pyplot as plt\n",
    "x = [0.2, 0.6, 0.8, 1.2, 1.6]\n",
    "y = [0.4, 1.2, 1.6, 2.4, 3.2]\n",
    "\n",
    "plt.plot(x,y)\n",
    "plt.title('Example')\n",
    "plt.xlabel('x')\n",
    "plt.ylabel('y')\n",
    "plt.show()"
   ]
  },
  {
   "cell_type": "code",
   "execution_count": null,
   "metadata": {
    "collapsed": true
   },
   "outputs": [],
   "source": []
  }
 ],
 "metadata": {
  "kernelspec": {
   "display_name": "Python 3",
   "language": "python",
   "name": "python3"
  },
  "language_info": {
   "codemirror_mode": {
    "name": "ipython",
    "version": 3
   },
   "file_extension": ".py",
   "mimetype": "text/x-python",
   "name": "python",
   "nbconvert_exporter": "python",
   "pygments_lexer": "ipython3",
   "version": "3.6.2"
  }
 },
 "nbformat": 4,
 "nbformat_minor": 2
}
